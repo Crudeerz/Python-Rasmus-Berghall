{
 "cells": [
  {
   "cell_type": "code",
   "execution_count": 29,
   "metadata": {},
   "outputs": [
    {
     "name": "stdout",
     "output_type": "stream",
     "text": [
      "\u001b[34m2953512\u001b[0m3p48723487597645723645\n",
      "29\u001b[34m535\u001b[0m123p48723487597645723645\n",
      "295\u001b[34m35123\u001b[0mp48723487597645723645\n",
      "29535123p\u001b[34m487234\u001b[0m87597645723645\n",
      "29535123p4\u001b[34m872348\u001b[0m7597645723645\n",
      "29535123p48\u001b[34m723487\u001b[0m597645723645\n",
      "29535123p487\u001b[34m2348759764572\u001b[0m3645\n",
      "29535123p4872\u001b[34m3487597645723\u001b[0m645\n",
      "29535123p48723\u001b[34m48759764\u001b[0m5723645\n",
      "29535123p4872348\u001b[34m7597\u001b[0m645723645\n",
      "29535123p48723487\u001b[34m597645\u001b[0m723645\n",
      "29535123p4872348759\u001b[34m76457\u001b[0m23645\n",
      "29535123p48723487597\u001b[34m6457236\u001b[0m45\n",
      "29535123p487234875976\u001b[34m4572364\u001b[0m5\n",
      "29535123p4872348759764\u001b[34m5723645\u001b[0m\n"
     ]
    }
   ],
   "source": [
    "from colorama import Fore, Style\n",
    "\n",
    "teststring = '29535123p48723487597645723645'\n",
    "\n",
    "\n",
    "for i in range(len(teststring)):\n",
    "    pointer = i + 1\n",
    "\n",
    "    while pointer < len(teststring):\n",
    "\n",
    "        if not teststring[i].isnumeric() or not teststring[pointer].isnumeric():\n",
    "            break\n",
    "\n",
    "        if teststring[i] == teststring[pointer]:\n",
    "            slice_pointer = pointer + 1\n",
    "\n",
    "            print(f'{teststring[:i]}{Fore.BLUE}{teststring[i:slice_pointer]}{Style.RESET_ALL}{teststring[slice_pointer:]}')\n",
    "            break\n",
    "\n",
    "        pointer += 1\n",
    "\n",
    "\n"
   ]
  }
 ],
 "metadata": {
  "kernelspec": {
   "display_name": "Python-Rasmus-Berghall-PaJStNKF",
   "language": "python",
   "name": "python3"
  },
  "language_info": {
   "codemirror_mode": {
    "name": "ipython",
    "version": 3
   },
   "file_extension": ".py",
   "mimetype": "text/x-python",
   "name": "python",
   "nbconvert_exporter": "python",
   "pygments_lexer": "ipython3",
   "version": "3.11.5"
  },
  "orig_nbformat": 4
 },
 "nbformat": 4,
 "nbformat_minor": 2
}
