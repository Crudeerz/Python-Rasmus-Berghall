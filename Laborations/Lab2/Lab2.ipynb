{
 "cells": [
  {
   "cell_type": "markdown",
   "metadata": {},
   "source": [
    "# Laboration 2"
   ]
  },
  {
   "cell_type": "markdown",
   "metadata": {},
   "source": [
    "## Import file and prepare the data\n",
    "Separating values into multiple lists\n"
   ]
  },
  {
   "cell_type": "code",
   "execution_count": 42,
   "metadata": {},
   "outputs": [],
   "source": [
    "import csv\n",
    "\n",
    "#Set filepath\n",
    "datapoint_txt = 'D:\\ITHS\\Github\\Python-Rasmus-Berghall\\Laborations\\Lab2\\Data\\datapoints.txt'\n",
    "\n",
    "\n",
    "with open(datapoint_txt) as f_datapoints:\n",
    "    datapoints_reader = csv.reader(f_datapoints)\n",
    "    datapoints = [row for row in datapoints_reader]\n",
    "\n",
    "# Remove column-info from input file\n",
    "datapoints = datapoints[1:]\n",
    "\n",
    "#Setting labels for slicing-indexes of sublist(datapoint) in datapoints for readability\n",
    "#One datapoint consist of [width[0], height[1], label[2]]\n",
    "width = 0\n",
    "height = 1\n",
    "label = 2\n",
    "\n",
    "# Create list of datapoints width-values\n",
    "datapoints_width = [float(point[width].strip()) for point in datapoints]\n",
    "\n",
    "# Create list of datapoints height-values\n",
    "datapoints_height = [float(point[height].strip()) for point in datapoints]\n",
    "\n"
   ]
  },
  {
   "cell_type": "markdown",
   "metadata": {},
   "source": [
    "## Plotting from datapoints\n",
    "\n",
    "Plotting out every from input file 'datapoints.txt'  \n",
    "where the x-axis is representing the width and the y-axis representing the height"
   ]
  },
  {
   "cell_type": "code",
   "execution_count": 63,
   "metadata": {},
   "outputs": [
    {
     "data": {
      "text/plain": [
       "Text(0.5, 0, 'Pokémon width')"
      ]
     },
     "execution_count": 63,
     "metadata": {},
     "output_type": "execute_result"
    },
    {
     "data": {
      "image/png": "[encoded data removed]",
      "text/plain": [
       "<Figure size 640x480 with 1 Axes>"
      ]
     },
     "metadata": {},
     "output_type": "display_data"
    }
   ],
   "source": [
    "# Importera nödvändiga bibliotek \n",
    "import matplotlib.pyplot as plt\n",
    "\n",
    "# Plot all points from datapoints\n",
    "# The x-axis representing the width and y-axis representing the height\n",
    "plt.scatter(datapoints_width, datapoints_height)\n",
    "plt.ylabel('Pokémon height')\n",
    "plt.xlabel('Pokémon width')\n",
    "\n"
   ]
  },
  {
   "cell_type": "markdown",
   "metadata": {},
   "source": [
    "## Reading testpoints from file\n",
    "\n",
    "Reading and preparing testpoints from file 'testpoints.txt'"
   ]
  },
  {
   "cell_type": "code",
   "execution_count": 64,
   "metadata": {},
   "outputs": [],
   "source": [
    "#Set filepath\n",
    "testpoints_txt = 'D:\\ITHS\\Github\\Python-Rasmus-Berghall\\Laborations\\Lab2\\Data\\\\testpoints.txt'\n",
    "\n",
    "# Open and read the 'testpoints.txt'\n",
    "with open(testpoints_txt) as f_testpoints: \n",
    "    testpoints_reader = csv.reader(f_testpoints)\n",
    "    testpoints = [row for row in testpoints_reader]\n",
    "\n",
    "\n",
    "# Removing first item from the list (labels)\n",
    "testpoints = testpoints[1:]\n",
    "\n",
    "\n",
    "# Splitting values for width and height to seperate lists \n",
    "testpoint_width = [float(point[0][4:].strip()) for point in testpoints]\n",
    "testpoint_height = [float(point[1][:-1].strip()) for point in testpoints]\n"
   ]
  },
  {
   "cell_type": "markdown",
   "metadata": {},
   "source": [
    "## Calculating the distance\n",
    "\n",
    "Calculating the distance between the testpoints and datapoints (*trainingdata*).\n",
    "\n",
    "Distance is calculated with the following formula:\n",
    "\n",
    "```python\n",
    "\n",
    "d = math.sqrt(x2-x1)**2 + (y2-y1)**2\n",
    "\n",
    "```"
   ]
  },
  {
   "cell_type": "markdown",
   "metadata": {},
   "source": [
    "#### Testing and verifying algorithm with given testdata:"
   ]
  },
  {
   "cell_type": "code",
   "execution_count": 65,
   "metadata": {},
   "outputs": [
    {
     "name": "stdout",
     "output_type": "stream",
     "text": [
      "Sample with (width, height): (25.0, 32.0) classified as Pikachu\n",
      "Sample with (width, height): (24.2, 31.5) classified as Pikachu\n",
      "Sample with (width, height): (22.0, 34.0) classified as Pikachu\n",
      "Sample with (width, height): (20.5, 34.0) classified as Pichu\n"
     ]
    }
   ],
   "source": [
    "import math\n",
    "\n",
    "#Loop through the algorithm for every testpoint\n",
    "for i in range(len(testpoint_height)):\n",
    "    \n",
    "    # Initialize distances and counter\n",
    "    distances = []\n",
    "    count = 0\n",
    "    \n",
    "    #Calculate the distance between the testpoint and all the datapoints\n",
    "    while count < len(datapoints_height):\n",
    "        distances.append(math.sqrt((datapoints_width[count] - testpoint_width[i])**2 + (datapoints_height[count] - testpoint_height[i])**2) )\n",
    "        count += 1\n",
    "\n",
    "    #Find smallest distance in calculated distances\n",
    "    min_value = min(distances)\n",
    "\n",
    "    #Find the index of the smallest value\n",
    "    index_min_value = distances.index(min_value)    \n",
    "    \n",
    "    #Check label in datapoints with saved index for smallest value and print result for each testpoint\n",
    "    if int(datapoints[index_min_value][label]) == 1: \n",
    "        pokémon = 'Pikachu'\n",
    "    else: \n",
    "        pokémon = 'Pichu'\n",
    "\n",
    "    print(f\"Sample with (width, height): ({testpoint_width[i]}, {testpoint_height[i]}) classified as {pokémon}\")\n"
   ]
  },
  {
   "cell_type": "markdown",
   "metadata": {},
   "source": [
    "# Uppgifter\n",
    "\n",
    "#### 1. Låt användaren mata in en testpunkt och låt algoritmen avgöra dess klass. Ta med felhanteringen som tar hand om negativa tal och icke-numeriska inputs. Se till att ha användarvänliga felmeddelanden.  \n"
   ]
  },
  {
   "cell_type": "code",
   "execution_count": 69,
   "metadata": {},
   "outputs": [
    {
     "name": "stdout",
     "output_type": "stream",
     "text": [
      "Please enter a testpoint (width and height) of your pokémon\n",
      "and we'll see if I can decide if it's Pikachu or Pichu.\n",
      "Enter a number (preferrably with one decimalpoint) \n",
      "between 19.0-29.0 for the width,\n",
      "And a number (preferrably with one decimalpoint)\n",
      "between 25.0-35.0 for the height\n",
      "\n",
      "Your point (24.0, 43.0), (width, height): classified as Pikachu\n"
     ]
    }
   ],
   "source": [
    "\n",
    "#Get input from user, testpoint with width and height. \n",
    "\n",
    "print(\"\"\"Please enter a testpoint (width and height) of your pokémon\n",
    "and we'll see if I can decide if it's Pikachu or Pichu.\n",
    "Enter a number (preferrably with one decimalpoint) \n",
    "between 19.0-29.0 for the width,\n",
    "And a number (preferrably with one decimalpoint)\n",
    "between 25.0-35.0 for the height\"\"\") \n",
    "print()\n",
    "\n",
    "user_width = float(input(\"Enter the width: \").strip())\n",
    "\n",
    "\n",
    "\n",
    "user_height = float(input(\"Enter the height: \").strip())\n",
    "\n",
    "\n",
    "\n",
    "# Initialize distances and counter\n",
    "distances = []\n",
    "count = 0\n",
    "\n",
    "while count < len(datapoints_height):\n",
    "    distances.append(math.sqrt((datapoints_width[count] - user_width)**2 + (datapoints_height[count] - user_height)**2) )\n",
    "    count += 1\n",
    "\n",
    "min_value = min(distances)\n",
    "index_min_value = distances.index(min_value)    \n",
    "\n",
    "if int(datapoints[index_min_value][label]) == 1: \n",
    "    pokémon = 'Pikachu'\n",
    "else: \n",
    "    pokémon = 'Pichu'\n",
    "\n",
    "print(f\"Your point ({user_width}, {user_height}), (width, height): classified as {pokémon}\")\n",
    "\n"
   ]
  },
  {
   "cell_type": "markdown",
   "metadata": {},
   "source": [
    "#### 2. Klassificera input med dom 10 (11) närmsta punkterna istället för den närmsta punkten. Majoritetsröstning."
   ]
  },
  {
   "cell_type": "code",
   "execution_count": 71,
   "metadata": {},
   "outputs": [
    {
     "name": "stdout",
     "output_type": "stream",
     "text": [
      "Please enter a testpoint (width and height) of your pokémon\n",
      "and we'll see if I can decide if it's Pikachu or Pichu.\n",
      "Enter a number (preferrably with one decimalpoint) \n",
      "between 19.0-29.0 for the width,\n",
      "And a number (preferrably with one decimalpoint)\n",
      "between 25.0-35.0 for the height \n",
      "\n",
      "Your point (23.0, 33.0), (width, height): classified as Pikachu based on the 10 nearest values\n"
     ]
    }
   ],
   "source": [
    "\n",
    "#Get input from user, testpoint with width and height. \n",
    "#print()\n",
    "print(\"\"\"Please enter a testpoint (width and height) of your pokémon\n",
    "and we'll see if I can decide if it's Pikachu or Pichu.\n",
    "Enter a number (preferrably with one decimalpoint) \n",
    "between 19.0-29.0 for the width,\n",
    "And a number (preferrably with one decimalpoint)\n",
    "between 25.0-35.0 for the height \"\"\") \n",
    "print()\n",
    "\n",
    "user_width = float(input(\"Enter the width: \"))\n",
    "\n",
    "user_height = float(input(\"Enter the height: \"))\n",
    "\n",
    "# Initialize labels, distances and counter\n",
    "labels = []\n",
    "distances = []\n",
    "count = 0\n",
    "\n",
    "# Calculate the distancees between input point and datapoints,\n",
    "# Save them to \"distances\"\n",
    "while count < len(datapoints):\n",
    "    distances.append(math.sqrt((datapoints_width[count] - user_width)**2 + (datapoints_height[count] - user_height)**2) )\n",
    "    count += 1\n",
    "\n",
    "# Loop through distances and get label for the smallest distance each time\n",
    "for i in range(11):\n",
    "\n",
    "    # Find smallest distance from calculation\n",
    "    min_value = min(distances)\n",
    "    \n",
    "    # Find index of smallest distance from calculation\n",
    "    index_min_value = distances.index(min_value)\n",
    "    \n",
    "    # Add the label from smallest value to list with labels\n",
    "    labels.append(int(datapoints[index_min_value][label]))\n",
    "\n",
    "    # Remove smallest item from distances before next loop\n",
    "    distances.pop(index_min_value)\n",
    "\n",
    "\n",
    "# If sum of saved labels is greater than 6, it is majority Pikachu(1), else Pichu(0)\n",
    "# Print the result\n",
    "\n",
    "if sum(labels) >= 6: \n",
    "    pokémon = 'Pikachu'\n",
    "else: \n",
    "    pokémon = 'Pichu'\n",
    "\n",
    "print(f\"Your point ({user_width}, {user_height}), (width, height): classified as {pokémon} based on the 10 nearest values\")\n"
   ]
  },
  {
   "cell_type": "markdown",
   "metadata": {},
   "source": [
    "#### 3. Dela in ursprungsdatan slumpmässigt så att: \n",
    "- 100 är träningsdata (50 Pikachu, 50 Pichu)\n",
    "- 50 är testdata (25 Pikachu, 25 Pichu)\n"
   ]
  },
  {
   "cell_type": "code",
   "execution_count": 84,
   "metadata": {},
   "outputs": [
    {
     "name": "stdout",
     "output_type": "stream",
     "text": [
      "[['23.63591632187622', ' 36.46821490673444', ' 1'], ['21.78020031891186', ' 33.213397759738264', ' 1'], ['25.20630552859312', ' 36.558816149350534', ' 1'], ['24.73645685241186', ' 35.33291181124776', ' 1'], ['23.79257560586339', ' 38.10372825362463', ' 1'], ['24.557612968127465', ' 36.73144402805611', ' 1'], ['25.813562951888365', ' 35.561029988644336', ' 1'], ['24.923378667802954', ' 34.463907946680294', ' 1'], ['25.311244044578427', ' 34.117212558131975', ' 1'], ['22.819091361866796', ' 34.25516433025548', ' 1'], ['22.723629043769336', ' 34.83845262048311', ' 1'], ['25.82936770950206', ' 33.16210202637511', ' 1'], ['24.385289647525166', ' 37.335669057387726', ' 1'], ['26.525412887538252', ' 35.2192205449002', ' 1'], ['22.980962976720388', ' 35.3191819848619', ' 1'], ['25.17676132371397', ' 34.393601274285054', ' 1'], ['24.68867147060795', ' 35.363481550256644', ' 1'], ['23.02865997158701', ' 35.4082866561793', ' 1'], ['23.868174335146136', ' 35.449698119416254', ' 1'], ['26.388368121945867', ' 35.62090746957761', ' 1'], ['25.567802785102412', ' 35.66631613405574', ' 1'], ['23.99071038023876', ' 35.06411342600334', ' 1'], ['23.792145242488125', ' 35.107650004447365', ' 1'], ['24.111063562798908', ' 31.418267572382227', ' 1'], ['24.587154114074174', ' 35.61397200548726', ' 1'], ['21.65956855815321', ' 36.81907508404582', ' 1'], ['24.87225986527509', ' 36.149522366845794', ' 1'], ['22.121125492746756', ' 34.690328304537594', ' 1'], ['26.517189386365075', ' 34.7011323493234', ' 1'], ['23.388322747322558', ' 36.769999842308025', ' 1'], ['20.240420339246214', ' 33.87654102727224', ' 1'], ['24.59096971887165', ' 33.61859674823029', ' 1'], ['25.116586706562245', ' 36.20121874558056', ' 1'], ['25.557501503948984', ' 36.39246631338593', ' 1'], ['24.387651550868913', ' 33.2827564295772', ' 1'], ['22.826788929142136', ' 37.16482263385777', ' 1'], ['24.609041154081922', ' 36.104823979389685', ' 1'], ['23.619820901736276', ' 36.98566859418098', ' 1'], ['25.15076144887497', ' 33.89409391341271', ' 1'], ['24.47796159427686', ' 35.32146634770389', ' 1'], ['24.004087953898246', ' 35.618803262029324', ' 1'], ['22.493387946548573', ' 36.78517041843648', ' 1'], ['22.42591934771403', ' 34.789785253591695', ' 1'], ['22.15365577923418', ' 37.131777154514445', ' 1'], ['24.991105175469915', ' 34.10979431232785', ' 1'], ['25.5491811833759', ' 33.52624549604696', ' 1'], ['20.216002852334192', ' 33.41610156154373', ' 1'], ['25.922634453956498', ' 35.2215760062586', ' 1'], ['26.5173046073707', ' 35.18452932633369', ' 1'], ['21.23487155577698', ' 36.5105588800243', ' 1'], ['21.735098682375444', ' 36.51127780882874', ' 1'], ['24.686621418656394', ' 33.104763826036056', ' 1'], ['27.194383786280955', ' 36.267507265697255', ' 1'], ['22.943474306364404', ' 37.07911595862419', ' 1'], ['23.506242342727596', ' 34.65976495915212', ' 1'], ['23.982852691650397', ' 36.01635437187656', ' 1'], ['22.69081372502663', ' 35.561787418827784', ' 1'], ['25.23472228644244', ' 32.641361593924174', ' 1'], ['25.094170820930774', ' 34.58523945069137', ' 1'], ['25.102866296361412', ' 33.30022994232253', ' 1'], ['25.276930013476704', ' 35.131360854176535', ' 1'], ['25.31359693611633', ' 35.516462459726284', ' 1'], ['23.729020953235672', ' 40.1471703193656', ' 1'], ['24.77859198674412', ' 34.15166673260206', ' 1'], ['24.601954468608902', ' 32.78817486174627', ' 1'], ['23.10295249458573', ' 34.771846982043876', ' 1'], ['23.846379201803554', ' 36.1414458257896', ' 1'], ['23.783158802270272', ' 36.043496466883504', ' 1'], ['24.961373776424374', ' 33.9228476372155', ' 1'], ['25.023623126719983', ' 34.28266788814326', ' 1'], ['23.062887108583702', ' 35.04075442599907', ' 1'], ['23.114574183632723', ' 35.530813208835745', ' 1'], ['23.64067859798334', ' 38.192278809575996', ' 1'], ['23.631672104136165', ' 34.52980905331491', ' 1'], ['21.989953947825015', ' 33.64590281447322', ' 1']]\n",
      "[['21.959384499160468', ' 31.23956701424158', ' 0'], ['17.714056417303343', ' 31.44170391314962', ' 0'], ['19.332572350434354', ' 32.25325633655492', ' 0'], ['20.191281253428173', ' 35.06966921830237', ' 0'], ['19.639358214988224', ' 34.56117030001663', ' 0'], ['18.341233265627693', ' 31.399261188293124', ' 0'], ['20.23890182459327', ' 32.78945132868386', ' 0'], ['17.905128921789093', ' 28.88813385482529', ' 0'], ['19.299333494980544', ' 30.486337996080024', ' 0'], ['20.118681851201636', ' 31.89116680793916', ' 0'], ['17.96926166354966', ' 32.48406633310577', ' 0'], ['21.58631807419169', ' 30.975094109600928', ' 0'], ['18.659636883604406', ' 33.04492931889734', ' 0'], ['19.209914415003638', ' 31.420355685575746', ' 0'], ['18.16229126686346', ' 29.93643755301725', ' 0'], ['19.120619567709372', ' 30.699542112256864', ' 0'], ['18.583516818010633', ' 31.317010181098944', ' 0'], ['20.282109030336354', ' 33.18796105898338', ' 0'], ['17.672876665469843', ' 32.67247775608707', ' 0'], ['20.795121649361587', ' 32.493051910886486', ' 0'], ['20.101930916301317', ' 31.19190374413498', ' 0'], ['20.39204407747099', ' 32.08774193592624', ' 0'], ['20.098954730848863', ' 33.067467402673685', ' 0'], ['20.88810038727894', ' 32.644004609994596', ' 0'], ['18.59843317023302', ' 32.60944545701523', ' 0'], ['21.069573240979203', ' 32.21936612110862', ' 0'], ['20.276898330625336', ' 33.84658247356705', ' 0'], ['19.592545899041802', ' 30.59392660926762', ' 0'], ['20.323269906838078', ' 32.29574812465895', ' 0'], ['21.35018601896744', ' 33.94708664610186', ' 0'], ['20.1569063412357', ' 31.639314277796213', ' 0'], ['18.929553010373773', ' 33.331523282909906', ' 0'], ['19.499062316347583', ' 31.139578977011656', ' 0'], ['20.579090632339703', ' 30.771060416224586', ' 0'], ['19.69944356712352', ' 30.714803909172808', ' 0'], ['19.893039297257797', ' 30.792717627266093', ' 0'], ['20.554378047506688', ' 31.190868044454003', ' 0'], ['19.55060327163345', ' 34.602756266320824', ' 0'], ['20.759216855120783', ' 32.46166610892119', ' 0'], ['20.008781128403864', ' 32.15292152986537', ' 0'], ['19.56686423226426', ' 30.326934442372128', ' 0'], ['21.762001750531006', ' 33.05861298355044', ' 0'], ['18.989418138097026', ' 30.90556767082746', ' 0'], ['19.689909518113225', ' 31.931042667213433', ' 0'], ['20.670175582205307', ' 32.56517816055985', ' 0'], ['19.615470460641276', ' 31.431998074581394', ' 0'], ['19.63004376836659', ' 33.17007380684688', ' 0'], ['23.213535136458052', ' 30.885396636777646', ' 0'], ['20.286130095999752', ' 32.05337469378953', ' 0'], ['18.310337204918557', ' 32.21783772801109', ' 0'], ['19.510846016895872', ' 29.897476657136767', ' 0'], ['23.417849657642716', ' 30.787174197048245', ' 0'], ['18.424438779822488', ' 31.79940219340467', ' 0'], ['22.091553997471266', ' 31.28659385225738', ' 0'], ['21.19030359241021', ' 35.40347944144049', ' 0'], ['23.22258522384455', ' 30.98700760873653', ' 0'], ['23.6967469082275', ' 32.52744160379351', ' 0'], ['21.07884990354048', ' 32.02998372994636', ' 0'], ['16.866105280907732', ' 28.984730409305136', ' 0'], ['19.213188999276543', ' 31.71415755285442', ' 0'], ['19.245073847748515', ' 32.58876412530819', ' 0'], ['18.43905922308554', ' 30.82782241883467', ' 0'], ['19.64717255190365', ' 32.82976709158487', ' 0'], ['20.860495554922544', ' 29.030638237258632', ' 0'], ['21.78836263199249', ' 32.339722449295664', ' 0'], ['20.01813734259072', ' 32.22092994622254', ' 0'], ['18.836400960218388', ' 35.028108243261656', ' 0'], ['20.411629224757448', ' 32.263992292489995', ' 0'], ['19.574019952530243', ' 31.935886159584427', ' 0'], ['21.457545842765146', ' 31.659809960209728', ' 0'], ['18.124817511542226', ' 31.997288449746307', ' 0'], ['18.990689973799388', ' 32.387963045016726', ' 0'], ['23.541999631800756', ' 32.4751927528317', ' 0'], ['19.64060341428934', ' 30.2915567287162', ' 0'], ['22.30210323807139', ' 32.73237945145149', ' 0']]\n"
     ]
    }
   ],
   "source": [
    "\n",
    "pikachu_point = [point for point in datapoints if int(point[label]) == 1]\n",
    "pichu_point = [point for point in datapoints if not int(point[label]) == 1]\n",
    "\n",
    "print(pikachu_point)\n",
    "print(pichu_point)\n"
   ]
  },
  {
   "cell_type": "markdown",
   "metadata": {},
   "source": [
    "#### 4. Beräkna noggranheten genom följande formel: \n",
    " \n",
    "accuracy = (#TP+#TN)/(total)\n",
    " \n",
    "|        | Pikachu Actual | Pichu Actual  |\n",
    "|------------| -------------- | --------------|\n",
    "| Pikachu Predicted | TP      |     FP        |  \n",
    "| Pichu Predicted | FN      |     TN        |  \n"
   ]
  }
 ],
 "metadata": {
  "kernelspec": {
   "display_name": "Python-Rasmus-Berghall-PaJStNKF",
   "language": "python",
   "name": "python3"
  },
  "language_info": {
   "codemirror_mode": {
    "name": "ipython",
    "version": 3
   },
   "file_extension": ".py",
   "mimetype": "text/x-python",
   "name": "python",
   "nbconvert_exporter": "python",
   "pygments_lexer": "ipython3",
   "version": "3.11.5"
  },
  "orig_nbformat": 4
 },
 "nbformat": 4,
 "nbformat_minor": 2
}
