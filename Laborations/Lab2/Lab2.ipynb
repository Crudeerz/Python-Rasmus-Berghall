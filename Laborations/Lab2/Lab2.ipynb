{
 "cells": [
  {
   "cell_type": "markdown",
   "metadata": {},
   "source": [
    "# Laboration 2"
   ]
  },
  {
   "cell_type": "markdown",
   "metadata": {},
   "source": [
    "### Import file and prepare the data\n"
   ]
  },
  {
   "cell_type": "code",
   "execution_count": 77,
   "metadata": {},
   "outputs": [],
   "source": [
    "import csv\n",
    "\n",
    "#Set filepath\n",
    "datapoint_txt = 'D:\\ITHS\\Github\\Python-Rasmus-Berghall\\Laborations\\Lab2\\Data\\datapoints.txt'\n",
    "\n",
    "\n",
    "with open(datapoint_txt) as f_datapoints:\n",
    "    datapoints_reader = csv.reader(f_datapoints)\n",
    "    datapoints = [row for row in datapoints_reader]\n",
    "\n",
    "# Remove column-info from input file\n",
    "datapoints = datapoints[1:]\n",
    "\n",
    "#Setting labels for slicing-indexes of sublist(datapoint) in datapoints for readability\n",
    "#One datapoint consist of [width[0], height[1], label[2]]\n",
    "width = 0\n",
    "height = 1\n",
    "label = 2\n",
    "\n",
    "# Create list of datapoints width-values\n",
    "datapoints_width = [float(point[width].strip()) for point in datapoints]\n",
    "\n",
    "# Create list of datapoints height-values\n",
    "datapoints_height = [float(point[height].strip()) for point in datapoints]\n",
    "\n"
   ]
  },
  {
   "cell_type": "markdown",
   "metadata": {},
   "source": [
    "## Plotting from datapoints\n",
    "\n",
    "Plotting out every point from input file 'datapoints.txt'  \n",
    "where the x-axis is representing the width and the y-axis representing the height"
   ]
  },
  {
   "cell_type": "code",
   "execution_count": 78,
   "metadata": {},
   "outputs": [
    {
     "data": {
      "text/plain": [
       "Text(0.5, 0, 'Pokémon width')"
      ]
     },
     "execution_count": 78,
     "metadata": {},
     "output_type": "execute_result"
    },
    {
     "data": {
      "image/png": "[encoded data removed]",
      "text/plain": [
       "<Figure size 640x480 with 1 Axes>"
      ]
     },
     "metadata": {},
     "output_type": "display_data"
    }
   ],
   "source": [
    "# Importera nödvändiga bibliotek \n",
    "import matplotlib.pyplot as plt\n",
    "\n",
    "# Plot all points from datapoints\n",
    "# The x-axis representing the width and y-axis representing the height\n",
    "plt.scatter(datapoints_width, datapoints_height)\n",
    "plt.ylabel('Pokémon height')\n",
    "plt.xlabel('Pokémon width')\n",
    "\n"
   ]
  },
  {
   "cell_type": "markdown",
   "metadata": {},
   "source": [
    "## Reading testpoints from file\n",
    "\n",
    "Reading and preparing testpoints from file 'testpoints.txt'"
   ]
  },
  {
   "cell_type": "code",
   "execution_count": 79,
   "metadata": {},
   "outputs": [],
   "source": [
    "#Set filepath\n",
    "testpoints_txt = 'D:\\ITHS\\Github\\Python-Rasmus-Berghall\\Laborations\\Lab2\\Data\\\\testpoints.txt'\n",
    "\n",
    "# Open and read the 'testpoints.txt'\n",
    "with open(testpoints_txt) as f_testpoints: \n",
    "    testpoints_reader = csv.reader(f_testpoints)\n",
    "    testpoints = [row for row in testpoints_reader]\n",
    "\n",
    "\n",
    "# Removing first item (labels) from the list \n",
    "testpoints = testpoints[1:]\n",
    "\n",
    "\n",
    "# Splitting values for width and height to seperate lists \n",
    "testpoint_width = [float(point[0][4:].strip()) for point in testpoints]\n",
    "testpoint_height = [float(point[1][:-1].strip()) for point in testpoints]\n"
   ]
  },
  {
   "cell_type": "markdown",
   "metadata": {},
   "source": [
    "## Define functions\n",
    "#### Define function for taking input from user *(with fault handling)*\n"
   ]
  },
  {
   "cell_type": "code",
   "execution_count": 80,
   "metadata": {},
   "outputs": [],
   "source": [
    "def user_input(prompt = \"Input: \"):\n",
    "    \n",
    "    while True: \n",
    "        try: \n",
    "            point = int(input(prompt).strip()) \n",
    "            if 0 < point: return point\n",
    "            else: print(\"Your value is a negative value! Try again\")                \n",
    "        except ValueError:\n",
    "            print(\"Your value is not a integer! Try again\")\n",
    "       \n"
   ]
  },
  {
   "cell_type": "markdown",
   "metadata": {},
   "source": [
    "## Calculating the distance\n",
    "\n",
    "Calculating the distance between the testpoints and datapoints and comparing to given answers in task.\n",
    "\n",
    "Distance is calculated with the following formula:\n",
    "```python\n",
    "\n",
    "d = math.sqrt(x2-x1)**2 + (y2-y1)**2\n",
    "\n",
    "```\n"
   ]
  },
  {
   "cell_type": "code",
   "execution_count": 81,
   "metadata": {},
   "outputs": [
    {
     "name": "stdout",
     "output_type": "stream",
     "text": [
      "Sample with (width, height): (25.0, 32.0) classified as Pikachu\n",
      "Sample with (width, height): (24.2, 31.5) classified as Pikachu\n",
      "Sample with (width, height): (22.0, 34.0) classified as Pikachu\n",
      "Sample with (width, height): (20.5, 34.0) classified as Pichu\n"
     ]
    }
   ],
   "source": [
    "import math\n",
    "\n",
    "#Loop through the algorithm for every testpoint\n",
    "for i in range(len(testpoints)):\n",
    "\n",
    "    # Initialize distances and counter\n",
    "    distances = []\n",
    "    count = 0\n",
    "\n",
    "    # Calculate shortest distance for every testpoint\n",
    "    while count < len(datapoints):\n",
    "            distances.append(math.sqrt((datapoints_width[count] - testpoint_width[i])**2 + (datapoints_height[count] - testpoint_height[i])**2) )\n",
    "            count += 1\n",
    "    \n",
    "    # Find the index of the point where shortest distance is found\n",
    "    index_min_value = distances.index(min(distances))\n",
    "    \n",
    "    # Check label in datapoints with saved index for smallest value and print result for each testpoint\n",
    "    if int(datapoints[index_min_value][label]) == 1: \n",
    "        pokémon = 'Pikachu'\n",
    "    else: \n",
    "        pokémon = 'Pichu'\n",
    "\n",
    "    print(f\"Sample with (width, height): ({testpoint_width[i]}, {testpoint_height[i]}) classified as {pokémon}\")\n"
   ]
  },
  {
   "cell_type": "markdown",
   "metadata": {},
   "source": [
    "---\n",
    "# Uppgifter\n",
    "\n",
    "### 1. Låt användaren mata in en testpunkt och låt algoritmen avgöra dess klass. Ta med felhanteringen som tar hand om negativa tal och icke-numeriska inputs. Se till att ha användarvänliga felmeddelanden.  \n"
   ]
  },
  {
   "cell_type": "code",
   "execution_count": 82,
   "metadata": {},
   "outputs": [
    {
     "name": "stdout",
     "output_type": "stream",
     "text": [
      "Please enter a testpoint (width and height) of your pokémon\n",
      "and we'll see if I can decide if it's Pikachu or Pichu.\n",
      "Your point should be a positive integer\n",
      "\n",
      "Your point (23, 34), (width, height): classified as Pikachu\n"
     ]
    }
   ],
   "source": [
    "\n",
    "#Get input from user, testpoint with width and height. \n",
    "\n",
    "print(\"\"\"Please enter a testpoint (width and height) of your pokémon\n",
    "and we'll see if I can decide if it's Pikachu or Pichu.\n",
    "Your point should be a positive integer\"\"\") \n",
    "print()\n",
    "\n",
    "user_width = user_input(\"Enter the first point (width): \")\n",
    "user_height = user_input(\"Enter the second point (height): \")\n",
    "\n",
    "# Initialize distances and counter\n",
    "distances = []\n",
    "count = 0\n",
    "\n",
    "# Calculate the distancees between input point and datapoints,\n",
    "# Save them to \"distances\"\n",
    "while count < len(datapoints):\n",
    "    distances.append(math.sqrt((datapoints_width[count] - user_width)**2 + (datapoints_height[count] - user_height)**2) )\n",
    "    count += 1\n",
    "\n",
    "# Find index of shortest distance from calculation\n",
    "index_min_value = distances.index(min(distances))    \n",
    "\n",
    "# Print the result. Pikachu = 1, Pichu =  0\n",
    "if int(datapoints[index_min_value][label]) == 1: \n",
    "    pokémon = 'Pikachu'\n",
    "else: \n",
    "    pokémon = 'Pichu'\n",
    "\n",
    "print(f\"Your point ({user_width}, {user_height}), (width, height): classified as {pokémon}\")\n",
    "\n"
   ]
  },
  {
   "cell_type": "markdown",
   "metadata": {},
   "source": [
    "#### 2. Klassificera input med dom 11 (10) närmsta punkterna istället för den närmsta punkten. Majoritetsröstning."
   ]
  },
  {
   "cell_type": "code",
   "execution_count": 83,
   "metadata": {},
   "outputs": [
    {
     "name": "stdout",
     "output_type": "stream",
     "text": [
      "Please enter a testpoint (width and height) of your pokémon\n",
      "and we'll see if I can decide if it's Pikachu or Pichu.\n",
      "Your point should be a positive integer\n",
      "\n",
      "Your point (23, 34), (width, height): classified as Pichu based on the 10 nearest values\n"
     ]
    }
   ],
   "source": [
    "\n",
    "#Get input from user, testpoint with width and height. \n",
    "\n",
    "print(\"\"\"Please enter a testpoint (width and height) of your pokémon\n",
    "and we'll see if I can decide if it's Pikachu or Pichu.\n",
    "Your point should be a positive integer\"\"\") \n",
    "print()\n",
    "\n",
    "user_width = user_input(\"Enter the first point (width): \")\n",
    "user_height = user_input(\"Enter the second point (height): \")\n",
    "\n",
    "# Initialize labels, distances and counter\n",
    "labels = []\n",
    "distances = []\n",
    "count = 0\n",
    "\n",
    "# Calculate the distancees between input point and datapoints,\n",
    "# Save them to \"distances\"\n",
    "while count < len(datapoints):\n",
    "    distances.append(math.sqrt((datapoints_width[count] - user_width)**2 + (datapoints_height[count] - user_height)**2) )\n",
    "    count += 1\n",
    "\n",
    "# Loop through distances and get label for the smallest distance each time\n",
    "for i in range(11):\n",
    "   \n",
    "    # Find index of shortest distance from calculation\n",
    "    index_min_value = distances.index(min(distances))\n",
    "    \n",
    "    # Add the label from smallest value to list with labels\n",
    "    labels.append(int(datapoints[index_min_value][label]))\n",
    "\n",
    "    # Remove smallest item from distances\n",
    "    distances.pop(index_min_value)\n",
    "\n",
    "\n",
    "# If sum of saved labels is greater than 6, it is majority Pikachu(1), else Pichu(0)\n",
    "# Print the result\n",
    "\n",
    "if sum(labels) >= 6: \n",
    "    pokémon = 'Pikachu'\n",
    "else: \n",
    "    pokémon = 'Pichu'\n",
    "\n",
    "print(f\"Your point ({user_width}, {user_height}), (width, height): classified as {pokémon} based on the 10 nearest values\")\n"
   ]
  },
  {
   "cell_type": "markdown",
   "metadata": {},
   "source": [
    "#### 3. Dela in ursprungsdatan slumpmässigt så att: \n",
    "- 100 är träningsdata (50 Pikachu, 50 Pichu)\n",
    "- 50 är testdata (25 Pikachu, 25 Pichu)\n"
   ]
  },
  {
   "cell_type": "code",
   "execution_count": 84,
   "metadata": {},
   "outputs": [],
   "source": [
    "\n",
    "import random\n",
    "\n",
    "# Seperate pikachu and pichu points into different lists\n",
    "pikachu_points = [point for point in datapoints if int(point[label]) == 1]\n",
    "pichu_points= [point for point in datapoints if int(point[label]) != 1]\n",
    "\n",
    "# Initialize empty lists for randomized training and testdata.\n",
    "training_data = []\n",
    "test_data = []\n",
    "\n",
    "# Choose 25 random points to use as testdata, \"test_data\".\n",
    "# The rest is used as trainingdata, \"training_data\"\n",
    "while len(pikachu_points) > 50:\n",
    "    random_point = random.choice(pikachu_points)\n",
    "    test_data.append(random_point)\n",
    "    pikachu_points.pop(pikachu_points.index(random_point))\n",
    "\n",
    "# Do the same as above for pichu_points\n",
    "while len(pichu_points) > 50:\n",
    "    random_point = random.choice(pichu_points)\n",
    "    test_data.append(random_point)\n",
    "    pichu_points.pop(pichu_points.index(random_point))\n",
    "\n",
    "\n",
    "# When removed 50 points from pichu and pikachu points: \n",
    "# concatinate the remainders to training_data\n",
    "training_data = pichu_points + pikachu_points\n",
    "\n",
    "# Split the width and height to seperate lists\n",
    "# For trainingdata:\n",
    "training_data_width = [float(point[width].strip()) for point in training_data] \n",
    "training_data_height = [float(point[height].strip()) for point in training_data] \n",
    "\n",
    "# Same for testdata: \n",
    "test_data_width = [float(point[width].strip()) for point in test_data] \n",
    "test_data_height = [float(point[height].strip()) for point in test_data]\n",
    "\n"
   ]
  },
  {
   "cell_type": "markdown",
   "metadata": {},
   "source": [
    "#### 4. Beräkna noggranheten genom följande formel: \n",
    " \n",
    "accuracy = (#TP+#TN)/(total)\n",
    " \n",
    "|        | Pikachu Actual | Pichu Actual  |\n",
    "|------------| -------------- | --------------|\n",
    "| Pikachu Predicted | TP      |     FP        |  \n",
    "| Pichu Predicted | FN      |     TN        |  \n"
   ]
  },
  {
   "cell_type": "code",
   "execution_count": 88,
   "metadata": {},
   "outputs": [
    {
     "name": "stdout",
     "output_type": "stream",
     "text": [
      "Algorithm classified testpoint as: Pikachu, the correct classification is: Pikachu\n",
      "Algorithm classified testpoint as: Pikachu, the correct classification is: Pikachu\n",
      "Algorithm classified testpoint as: Pikachu, the correct classification is: Pikachu\n",
      "Algorithm classified testpoint as: Pikachu, the correct classification is: Pikachu\n",
      "Algorithm classified testpoint as: Pikachu, the correct classification is: Pikachu\n",
      "Algorithm classified testpoint as: Pikachu, the correct classification is: Pikachu\n",
      "Algorithm classified testpoint as: Pichu, the correct classification is: Pikachu\n",
      "Algorithm classified testpoint as: Pikachu, the correct classification is: Pikachu\n",
      "Algorithm classified testpoint as: Pikachu, the correct classification is: Pikachu\n",
      "Algorithm classified testpoint as: Pikachu, the correct classification is: Pikachu\n",
      "Algorithm classified testpoint as: Pikachu, the correct classification is: Pikachu\n",
      "Algorithm classified testpoint as: Pikachu, the correct classification is: Pikachu\n",
      "Algorithm classified testpoint as: Pikachu, the correct classification is: Pikachu\n",
      "Algorithm classified testpoint as: Pikachu, the correct classification is: Pikachu\n",
      "Algorithm classified testpoint as: Pikachu, the correct classification is: Pikachu\n",
      "Algorithm classified testpoint as: Pikachu, the correct classification is: Pikachu\n",
      "Algorithm classified testpoint as: Pikachu, the correct classification is: Pikachu\n",
      "Algorithm classified testpoint as: Pikachu, the correct classification is: Pikachu\n",
      "Algorithm classified testpoint as: Pikachu, the correct classification is: Pikachu\n",
      "Algorithm classified testpoint as: Pikachu, the correct classification is: Pikachu\n",
      "Algorithm classified testpoint as: Pikachu, the correct classification is: Pikachu\n",
      "Algorithm classified testpoint as: Pikachu, the correct classification is: Pikachu\n",
      "Algorithm classified testpoint as: Pikachu, the correct classification is: Pikachu\n",
      "Algorithm classified testpoint as: Pikachu, the correct classification is: Pikachu\n",
      "Algorithm classified testpoint as: Pikachu, the correct classification is: Pikachu\n",
      "Algorithm classified testpoint as: Pichu, the correct classification is: Pichu\n",
      "Algorithm classified testpoint as: Pichu, the correct classification is: Pichu\n",
      "Algorithm classified testpoint as: Pichu, the correct classification is: Pichu\n",
      "Algorithm classified testpoint as: Pichu, the correct classification is: Pichu\n",
      "Algorithm classified testpoint as: Pichu, the correct classification is: Pichu\n",
      "Algorithm classified testpoint as: Pichu, the correct classification is: Pichu\n",
      "Algorithm classified testpoint as: Pichu, the correct classification is: Pichu\n",
      "Algorithm classified testpoint as: Pichu, the correct classification is: Pichu\n",
      "Algorithm classified testpoint as: Pichu, the correct classification is: Pichu\n",
      "Algorithm classified testpoint as: Pichu, the correct classification is: Pichu\n",
      "Algorithm classified testpoint as: Pichu, the correct classification is: Pichu\n",
      "Algorithm classified testpoint as: Pichu, the correct classification is: Pichu\n",
      "Algorithm classified testpoint as: Pichu, the correct classification is: Pichu\n",
      "Algorithm classified testpoint as: Pichu, the correct classification is: Pichu\n",
      "Algorithm classified testpoint as: Pichu, the correct classification is: Pichu\n",
      "Algorithm classified testpoint as: Pichu, the correct classification is: Pichu\n",
      "Algorithm classified testpoint as: Pichu, the correct classification is: Pichu\n",
      "Algorithm classified testpoint as: Pichu, the correct classification is: Pichu\n",
      "Algorithm classified testpoint as: Pichu, the correct classification is: Pichu\n",
      "Algorithm classified testpoint as: Pichu, the correct classification is: Pichu\n",
      "Algorithm classified testpoint as: Pichu, the correct classification is: Pichu\n",
      "Algorithm classified testpoint as: Pichu, the correct classification is: Pichu\n",
      "Algorithm classified testpoint as: Pichu, the correct classification is: Pichu\n",
      "Algorithm classified testpoint as: Pichu, the correct classification is: Pichu\n",
      "Algorithm classified testpoint as: Pichu, the correct classification is: Pichu\n",
      "\n",
      "98.00%\n"
     ]
    }
   ],
   "source": [
    "# Initialize variables for accuracy calculation\n",
    "TP = 0\n",
    "TN = 0\n",
    "\n",
    "\n",
    "for i in range(len(test_data)):\n",
    "    \n",
    "    # Initialize distances and counter\n",
    "    distances = []\n",
    "    count = 0\n",
    "    \n",
    "    #Calculate the distance between the testdata and the trainingdata\n",
    "    while count < len(training_data):\n",
    "        distances.append(math.sqrt((training_data_width[count] - test_data_width[i])**2 + (training_data_height[count] - test_data_height[i])**2))\n",
    "        count += 1\n",
    "\n",
    "\n",
    "    #Find the index of the smallest value from calculation\n",
    "    index_min_value = distances.index(min(distances))    \n",
    "    \n",
    "    # Set labels to variables\n",
    "    # Label from algorithm: \n",
    "    distance_label = int(training_data[index_min_value][label])\n",
    "\n",
    "    # Label from testdata (answer):\n",
    "    actual_label = int(test_data[i][label])\n",
    "\n",
    "    # Check for TP, TN.\n",
    "    # If algorithm chose pikachu and answer is pikachu it is a TP (True Positive).\n",
    "    # If algrithm chose pichu and answer is pichu it is a TN (True Negative).\n",
    "    if distance_label == 1 and actual_label == 1: \n",
    "        TP += 1\n",
    "\n",
    "    if distance_label == 0 and actual_label == 0: \n",
    "        TN += 1\n",
    "\n",
    "    # Set pokémon to correct value based on label (for print)\n",
    "    if distance_label == 1: \n",
    "        pokémon = 'Pikachu'\n",
    "    else: \n",
    "        pokémon = 'Pichu'\n",
    "        \n",
    "\n",
    "    if actual_label == 1:\n",
    "        answer = 'Pikachu'\n",
    "    else: \n",
    "        answer = 'Pichu'\n",
    "\n",
    "    \n",
    "    print(f'Algorithm classified testpoint as: {pokémon}, the correct classification is: {answer}')\n",
    "\n",
    "\n",
    "# Beräkna och skriva ut accuracy i procent för aktuell test och träningsdata\n",
    "accuracy = (TP + TN) / 50\n",
    "print(f'\\n{accuracy :.2%}')"
   ]
  },
  {
   "cell_type": "markdown",
   "metadata": {},
   "source": [
    "## Run task 3 and 4, 10 times\n",
    "Save the accuracy of each run"
   ]
  },
  {
   "cell_type": "code",
   "execution_count": 86,
   "metadata": {},
   "outputs": [
    {
     "name": "stdout",
     "output_type": "stream",
     "text": [
      "[0.98, 0.96, 0.92, 0.98, 0.96, 0.96, 0.92, 0.98, 0.98, 0.98]\n"
     ]
    }
   ],
   "source": [
    "# Define list to save accuracy for every test\n",
    "accuracy = []\n",
    "number_of_tries = 10\n",
    "\n",
    "# Run task 3 and 4 10 times\n",
    "for j in range(number_of_tries):\n",
    "\n",
    "# Seperate pikachu and pichu points into different lists\n",
    "    pikachu_points = [point for point in datapoints if int(point[label]) == 1]\n",
    "    pichu_points= [point for point in datapoints if int(point[label]) != 1]\n",
    "\n",
    "    # Initialize empty lists for randomized training and testdata.\n",
    "    training_data = []\n",
    "    test_data = []\n",
    "\n",
    "    # Choose 25 random points to use as testdata, \"test_data\".\n",
    "    # The rest is used as trainingdata, \"training_data\"\n",
    "    while len(pikachu_points) > 50:\n",
    "        random_point = random.choice(pikachu_points)\n",
    "        test_data.append(random_point)\n",
    "        pikachu_points.pop(pikachu_points.index(random_point))\n",
    "\n",
    "    # Do the same as above for pichu_points\n",
    "    while len(pichu_points) > 50:\n",
    "        random_point = random.choice(pichu_points)\n",
    "        test_data.append(random_point)\n",
    "        pichu_points.pop(pichu_points.index(random_point))\n",
    "\n",
    "\n",
    "    # When removed 50 points from pichu and pikachu points: \n",
    "    # concatinate the remainders to training_data\n",
    "    training_data = pichu_points + pikachu_points\n",
    "\n",
    "    # Split the width and height to seperate lists\n",
    "    # For trainingdata:\n",
    "    training_data_width = [float(point[width].strip()) for point in training_data] \n",
    "    training_data_height = [float(point[height].strip()) for point in training_data] \n",
    "\n",
    "    # Same for testdata: \n",
    "    test_data_width = [float(point[width].strip()) for point in test_data] \n",
    "    test_data_height = [float(point[height].strip()) for point in test_data]\n",
    "\n",
    "\n",
    "    # Initialize variables for accuracy calculation\n",
    "    TP = 0\n",
    "    TN = 0\n",
    "    \n",
    "\n",
    "    for i in range(len(test_data)):\n",
    "        \n",
    "        # Initialize distances and counter\n",
    "        distances = []\n",
    "        count = 0\n",
    "        \n",
    "        #Calculate the distance between the testdata and the trainingdata\n",
    "        while count < len(training_data):\n",
    "            distances.append(math.sqrt((training_data_width[count] - test_data_width[i])**2 + (training_data_height[count] - test_data_height[i])**2))\n",
    "            count += 1\n",
    "\n",
    "\n",
    "        #Find the index of the smallest value from calculation\n",
    "        index_min_value = distances.index(min(distances))    \n",
    "        \n",
    "        # Set labels to variables\n",
    "        # Label from algorithm: \n",
    "        distance_label = int(training_data[index_min_value][label])\n",
    "\n",
    "        # Label from testdata (answer):\n",
    "        actual_label = int(test_data[i][label])\n",
    "\n",
    "        # Check for TP, TN.\n",
    "        # If algorithm chose pikachu and answer is pikachu it is a TP.\n",
    "        # If algrithm chose pichu and answer is pichu it is a TN.\n",
    "        if distance_label == 1 and actual_label == 1: \n",
    "            TP += 1\n",
    "\n",
    "        if distance_label == 0 and actual_label == 0: \n",
    "            TN += 1\n",
    "\n",
    "        # Set pokémon to correct value based on label (for print)\n",
    "        if distance_label == 1: \n",
    "            pokémon = 'Pikachu'\n",
    "        else: \n",
    "            pokémon = 'Pichu'\n",
    "            \n",
    "\n",
    "        if actual_label == 1:\n",
    "            answer = 'Pikachu'\n",
    "        else: \n",
    "            answer = 'Pichu'\n",
    "\n",
    "        \n",
    "        #print(f'Algorithm classified testpoint as: {pokémon}, the correct classification is: {answer}')\n",
    "\n",
    "\n",
    "# Beräkna och skriva ut accuracy för aktuell test- och träningsdata\n",
    "    \n",
    "    accuracy.append((TP + TN) / 50)\n",
    "\n",
    "print(accuracy)\n",
    "\n"
   ]
  },
  {
   "cell_type": "markdown",
   "metadata": {},
   "source": [
    "### Plot the accuracy and report the average accuracy"
   ]
  },
  {
   "cell_type": "code",
   "execution_count": 87,
   "metadata": {},
   "outputs": [
    {
     "name": "stdout",
     "output_type": "stream",
     "text": [
      "The average accuracy over 10 tries is 0.962\n"
     ]
    },
    {
     "data": {
      "image/png": "[encoded data removed]",
      "text/plain": [
       "<Figure size 640x480 with 1 Axes>"
      ]
     },
     "metadata": {},
     "output_type": "display_data"
    }
   ],
   "source": [
    "# Plot the graph for accuracy\n",
    "plt.plot(range(1, len(accuracy) + 1), accuracy, marker= 'o')\n",
    "plt.grid()\n",
    "plt.xlabel(\"Try:\")\n",
    "plt.ylabel(\"Accuracy\")\n",
    "\n",
    "# Calculate average accuracy and print it out\n",
    "average = sum(accuracy) / len(accuracy)\n",
    "\n",
    "print(f'The average accuracy over {number_of_tries} tries is {average :.3}')"
   ]
  }
 ],
 "metadata": {
  "kernelspec": {
   "display_name": "Python-Rasmus-Berghall-PaJStNKF",
   "language": "python",
   "name": "python3"
  },
  "language_info": {
   "codemirror_mode": {
    "name": "ipython",
    "version": 3
   },
   "file_extension": ".py",
   "mimetype": "text/x-python",
   "name": "python",
   "nbconvert_exporter": "python",
   "pygments_lexer": "ipython3",
   "version": "3.11.5"
  },
  "orig_nbformat": 4
 },
 "nbformat": 4,
 "nbformat_minor": 2
}
