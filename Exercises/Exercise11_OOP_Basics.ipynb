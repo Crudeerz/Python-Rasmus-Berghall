{
 "cells": [
  {
   "cell_type": "markdown",
   "metadata": {},
   "source": [
    "# OOP introductory exercises"
   ]
  },
  {
   "cell_type": "code",
   "execution_count": null,
   "metadata": {},
   "outputs": [],
   "source": []
  },
  {
   "cell_type": "code",
   "execution_count": 26,
   "metadata": {},
   "outputs": [
    {
     "name": "stdout",
     "output_type": "stream",
     "text": [
      "1000\n",
      "0\n"
     ]
    }
   ],
   "source": [
    "class Step_tracker: \n",
    "    def __init__(self):\n",
    "        self._steps = 0\n",
    "\n",
    "    @property\n",
    "    def steps(self):\n",
    "        return self._steps\n",
    "\n",
    "\n",
    "    def step(self):\n",
    "        self._steps += 1\n",
    "\n",
    "    def reset(self):\n",
    "        self._steps = 0\n",
    "\n",
    "tracker = Step_tracker()\n",
    "\n",
    "for _ in range(1000):\n",
    "    tracker.step()\n",
    "\n",
    "\n",
    "\n",
    "print(tracker.steps)\n",
    "tracker.reset()\n",
    "print(tracker.steps)\n"
   ]
  },
  {
   "cell_type": "markdown",
   "metadata": {},
   "source": [
    "## 2. Empty/ full glass sim"
   ]
  },
  {
   "cell_type": "code",
   "execution_count": 70,
   "metadata": {},
   "outputs": [
    {
     "name": "stdout",
     "output_type": "stream",
     "text": [
      "The glass is already empty\n",
      "Filling the glass with water\n",
      "The glass is already full\n",
      "The glass breaks, now there is water all over the floor\n",
      "The glass can not be filled since its broken\n",
      "No need to empty the glass, it is broken!\n",
      "The glass is already broken\n",
      "The glass is fixed!\n",
      "You broke the glass!\n"
     ]
    }
   ],
   "source": [
    "class Glass:\n",
    "    def __init__(self):\n",
    "        self.is_full = False\n",
    "        self.is_broken = False\n",
    "\n",
    "    def __str__(self):\n",
    "        return self.is_full\n",
    "        \n",
    "\n",
    "    def filling(self):\n",
    "        if self.is_broken and not self.is_full:\n",
    "            print(\"The glass can not be filled since its broken\") \n",
    "\n",
    "        elif not self.is_full and not self.is_broken:\n",
    "            self.is_full = True\n",
    "            print(f\"Filling the glass with water\")\n",
    "\n",
    "        else: \n",
    "            print(\"The glass is already full\")\n",
    "\n",
    "\n",
    "    def emptying(self):\n",
    "        if self.is_broken: \n",
    "            print(\"No need to empty the glass, it is broken!\")\n",
    "        elif self.is_full and not self.is_broken:\n",
    "            self.is_full = False\n",
    "            print(\"Emptying the glass\")\n",
    "        else:\n",
    "            print(\"The glass is already empty\")\n",
    "\n",
    "    def brake(self):\n",
    "        if self.is_full and not self.is_broken:\n",
    "            self.is_broken = True\n",
    "            self.is_full = False\n",
    "            print(\"The glass breaks, now there is water all over the floor\")\n",
    "        elif not self.is_full and not self.is_broken:\n",
    "            print(\"You broke the glass!\")\n",
    "        else: \n",
    "            print(\"The glass is already broken\")\n",
    "\n",
    "    def fix_glass(self):\n",
    "        self.is_broken = False\n",
    "        self.is_full = False\n",
    "        print(\"The glass is fixed!\")\n",
    "    \n",
    "glass1 = Glass()\n",
    "\n",
    "glass1.emptying()\n",
    "glass1.filling()\n",
    "glass1.filling()\n",
    "glass1.brake()\n",
    "glass1.filling()\n",
    "glass1.emptying()\n",
    "glass1.brake()\n",
    "glass1.fix_glass()\n",
    "glass1.brake()\n"
   ]
  },
  {
   "cell_type": "markdown",
   "metadata": {},
   "source": [
    "## 3. Red and blue"
   ]
  },
  {
   "cell_type": "code",
   "execution_count": 87,
   "metadata": {},
   "outputs": [
    {
     "name": "stdout",
     "output_type": "stream",
     "text": [
      "46.0\n",
      "65.4\n",
      "100.0\n",
      "91.5\n"
     ]
    }
   ],
   "source": [
    "class Color:\n",
    "\n",
    "    @property\n",
    "    def red(self):\n",
    "        return self._red\n",
    "\n",
    "    @red.setter\n",
    "    def red(self, red):\n",
    "        self._red = float(red)\n",
    "        if red > 100.0:\n",
    "            self._red = 100.0\n",
    "        elif red < 0.0:\n",
    "            self._red = 0.0\n",
    "        else: \n",
    "            self._red = red\n",
    "        self._blue = 100.0 - self._red\n",
    "            \n",
    "    @property\n",
    "    def blue(self):\n",
    "        return self._blue\n",
    "\n",
    "    @blue.setter\n",
    "    def blue(self, blue):\n",
    "        self._blue = float(blue)\n",
    "        if blue > 100.0:\n",
    "            self._blue = 100.0\n",
    "        elif blue < 0.0:\n",
    "            self._blue = 0.0\n",
    "        else: \n",
    "            self._blue = blue\n",
    "        self._red = 100.0 - self._blue\n",
    "    \n",
    "\n",
    "thing = Color()\n",
    "\n",
    "thing.red = 54.0\n",
    "print(thing.blue)\n",
    "thing.blue = 34.6\n",
    "print(thing.red)\n",
    "thing.blue = 134.0\n",
    "print(thing.blue)\n",
    "thing.blue = 8.5\n",
    "\n",
    "print(thing.red)"
   ]
  }
 ],
 "metadata": {
  "kernelspec": {
   "display_name": "Python-Rasmus-Berghall-PaJStNKF",
   "language": "python",
   "name": "python3"
  },
  "language_info": {
   "codemirror_mode": {
    "name": "ipython",
    "version": 3
   },
   "file_extension": ".py",
   "mimetype": "text/x-python",
   "name": "python",
   "nbconvert_exporter": "python",
   "pygments_lexer": "ipython3",
   "version": "3.11.5"
  },
  "orig_nbformat": 4
 },
 "nbformat": 4,
 "nbformat_minor": 2
}
