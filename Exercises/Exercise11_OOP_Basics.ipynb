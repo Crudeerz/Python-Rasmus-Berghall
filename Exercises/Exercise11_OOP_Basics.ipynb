{
 "cells": [
  {
   "cell_type": "markdown",
   "metadata": {},
   "source": [
    "# OOP introductory exercises"
   ]
  },
  {
   "cell_type": "code",
   "execution_count": null,
   "metadata": {},
   "outputs": [],
   "source": []
  },
  {
   "cell_type": "code",
   "execution_count": 26,
   "metadata": {},
   "outputs": [
    {
     "name": "stdout",
     "output_type": "stream",
     "text": [
      "1000\n",
      "0\n"
     ]
    }
   ],
   "source": [
    "class Step_tracker: \n",
    "    def __init__(self):\n",
    "        self._steps = 0\n",
    "\n",
    "    @property\n",
    "    def steps(self):\n",
    "        return self._steps\n",
    "\n",
    "\n",
    "    def step(self):\n",
    "        self._steps += 1\n",
    "\n",
    "    def reset(self):\n",
    "        self._steps = 0\n",
    "\n",
    "tracker = Step_tracker()\n",
    "\n",
    "for _ in range(1000):\n",
    "    tracker.step()\n",
    "\n",
    "\n",
    "\n",
    "print(tracker.steps)\n",
    "tracker.reset()\n",
    "print(tracker.steps)\n"
   ]
  },
  {
   "cell_type": "markdown",
   "metadata": {},
   "source": [
    "## 2. Empty/ full glass sim"
   ]
  },
  {
   "cell_type": "code",
   "execution_count": 7,
   "metadata": {},
   "outputs": [
    {
     "name": "stdout",
     "output_type": "stream",
     "text": [
      "The glass is already empty\n",
      "Filling the glass with water\n",
      "The glass is already full\n",
      "The glass breaks, now there is water all over the floor\n",
      "The glass can not be filled since its broken\n",
      "No need to empty the glass, it is broken!\n",
      "The glass is already broken\n",
      "The glass is fixed!\n",
      "You broke the glass!\n",
      "Filling the glass with water\n"
     ]
    }
   ],
   "source": [
    "class Glass:\n",
    "    def __init__(self):\n",
    "        self.is_full = False\n",
    "        self.is_broken = False\n",
    "\n",
    "    def __str__(self):\n",
    "        return self.is_full\n",
    "        \n",
    "\n",
    "    def filling(self):\n",
    "        if self.is_broken and not self.is_full:\n",
    "            print(\"The glass can not be filled since its broken\") \n",
    "\n",
    "        elif not self.is_full and not self.is_broken:\n",
    "            self.is_full = True\n",
    "            print(f\"Filling the glass with water\")\n",
    "\n",
    "        else: \n",
    "            print(\"The glass is already full\")\n",
    "\n",
    "\n",
    "    def emptying(self):\n",
    "        if self.is_broken: \n",
    "            print(\"No need to empty the glass, it is broken!\")\n",
    "        elif self.is_full and not self.is_broken:\n",
    "            self.is_full = False\n",
    "            print(\"Emptying the glass\")\n",
    "        else:\n",
    "            print(\"The glass is already empty\")\n",
    "\n",
    "    def brake(self):\n",
    "        if self.is_full and not self.is_broken:\n",
    "            self.is_broken = True\n",
    "            self.is_full = False\n",
    "            print(\"The glass breaks, now there is water all over the floor\")\n",
    "        elif not self.is_full and not self.is_broken:\n",
    "            print(\"You broke the glass!\")\n",
    "        else: \n",
    "            print(\"The glass is already broken\")\n",
    "\n",
    "    def fix_glass(self):\n",
    "        self.is_broken = False\n",
    "        self.is_full = False\n",
    "        print(\"The glass is fixed!\")\n",
    "    \n",
    "glass1 = Glass()\n",
    "glass2 = Glass()\n",
    "\n",
    "glass1.emptying()\n",
    "glass1.filling()\n",
    "glass1.filling()\n",
    "glass1.brake()\n",
    "glass1.filling()\n",
    "glass1.emptying()\n",
    "glass1.brake()\n",
    "glass1.fix_glass()\n",
    "glass1.brake()\n",
    "glass2.filling()"
   ]
  },
  {
   "cell_type": "markdown",
   "metadata": {},
   "source": [
    "## 3. Red and blue"
   ]
  },
  {
   "cell_type": "code",
   "execution_count": 87,
   "metadata": {},
   "outputs": [
    {
     "name": "stdout",
     "output_type": "stream",
     "text": [
      "46.0\n",
      "65.4\n",
      "100.0\n",
      "91.5\n"
     ]
    }
   ],
   "source": [
    "class Color:\n",
    "\n",
    "    @property\n",
    "    def red(self):\n",
    "        return self._red\n",
    "\n",
    "    @red.setter\n",
    "    def red(self, red):\n",
    "        self._red = float(red)\n",
    "        if red > 100.0:\n",
    "            self._red = 100.0\n",
    "        elif red < 0.0:\n",
    "            self._red = 0.0\n",
    "        else: \n",
    "            self._red = red\n",
    "        self._blue = 100.0 - self._red\n",
    "            \n",
    "    @property\n",
    "    def blue(self):\n",
    "        return self._blue\n",
    "\n",
    "    @blue.setter\n",
    "    def blue(self, blue):\n",
    "        self._blue = float(blue)\n",
    "        if blue > 100.0:\n",
    "            self._blue = 100.0\n",
    "        elif blue < 0.0:\n",
    "            self._blue = 0.0\n",
    "        else: \n",
    "            self._blue = blue\n",
    "        self._red = 100.0 - self._blue\n",
    "    \n",
    "\n",
    "thing = Color()\n",
    "\n",
    "thing.red = 54.0\n",
    "print(thing.blue)\n",
    "thing.blue = 34.6\n",
    "print(thing.red)\n",
    "thing.blue = 134.0\n",
    "print(thing.blue)\n",
    "thing.blue = 8.5\n",
    "\n",
    "print(thing.red)"
   ]
  },
  {
   "cell_type": "markdown",
   "metadata": {},
   "source": [
    "## 4. One thousand cars"
   ]
  },
  {
   "cell_type": "code",
   "execution_count": 19,
   "metadata": {},
   "outputs": [
    {
     "name": "stdout",
     "output_type": "stream",
     "text": [
      "Längden av alla gröna bilar tillsammans är = 509m\n"
     ]
    }
   ],
   "source": [
    "import random\n",
    "\n",
    "    \n",
    "class Car:     \n",
    "    def __init__(self, color, length):\n",
    "        self.color = color\n",
    "        self.lenght = length\n",
    "    \n",
    "    # def __str__(self):\n",
    "    #     return f\"The color of the car is {self.color}, and its {self.lenght} meters long\"\n",
    "    \n",
    "    def __repr__(self):\n",
    "        return f\"{self.color} : {self.lenght}\"\n",
    "        \n",
    "\n",
    "colors = [\"red\", \"blue\", \"green\", \"pink\", \"white\", \"black\", \"grey\"]\n",
    "\n",
    "\n",
    "carlist = [Car(random.choice(colors), random.randint(3,5)) for _ in range (0, 1000)]\n",
    "\n",
    "sum = 0\n",
    "for car in carlist: \n",
    "    if car.color == \"green\":\n",
    "       sum += car.lenght\n",
    "\n",
    "print(f\"Längden av alla gröna bilar tillsammans är = {sum}m\")\n",
    "\n",
    "\n"
   ]
  },
  {
   "cell_type": "markdown",
   "metadata": {},
   "source": [
    "## 5. Email"
   ]
  },
  {
   "cell_type": "code",
   "execution_count": 1,
   "metadata": {},
   "outputs": [
    {
     "ename": "",
     "evalue": "",
     "output_type": "error",
     "traceback": [
      "\u001b[1;31mThe Kernel crashed while executing code in the the current cell or a previous cell. Please review the code in the cell(s) to identify a possible cause of the failure. Click <a href='https://aka.ms/vscodeJupyterKernelCrash'>here</a> for more info. View Jupyter <a href='command:jupyter.viewOutput'>log</a> for further details."
     ]
    }
   ],
   "source": [
    "rb_address = \"rasmusberghall@gmail.com\"\n",
    "\n",
    "class EmailFault(Exception):\n",
    "    ...\n",
    "\n",
    "class Email: \n",
    "\n",
    "    def __init__(self, address = None):\n",
    "        self.address = address\n",
    "        self._username = \"\"\n",
    "        self._domainname = \"\"\n",
    "        self._topdomain = \"\"\n",
    "\n",
    "\n",
    "    @property\n",
    "    def address(self):\n",
    "        return self.address \n",
    "        \n",
    "\n",
    "    @address.setter\n",
    "    def address(self, address):\n",
    "    \n",
    "        at_idx = self.address.find('@')\n",
    "        dot_idx = self.address.find('.')\n",
    "        \n",
    "        if at_idx == -1 or dot_idx == -1:\n",
    "            raise EmailFault(\"Your email address needs a @ and a . to be valid\")\n",
    "   \n",
    "\n",
    "        if len(self.address[:at_idx]) >= 1:\n",
    "           self._username = self.address[:at_idx]\n",
    "           #print(self._username)\n",
    "        else: raise EmailFault(\"Username is not valid\")\n",
    "           \n",
    "        \n",
    "        if len(self.address[at_idx + 1 :dot_idx]) >= 1:\n",
    "           self._domainname = self.address[at_idx + 1:dot_idx]\n",
    "           #print(self._domainname)\n",
    "        else: raise EmailFault(\"Domainname is not valid\")\n",
    "\n",
    "        if len(self.address[dot_idx + 1:]) >=2:\n",
    "            self._topdomain = self.address[dot_idx + 1:]\n",
    "            #print(self._topdomain)\n",
    "        else: raise EmailFault(\"Topdomain is not valid\")\n",
    "       \n",
    "        \n",
    "     \n",
    "\n",
    "  \n",
    "            \n",
    "\n",
    "    @property\n",
    "    def username(self):\n",
    "        return self._username\n",
    "    \n",
    "    @username.setter\n",
    "    def username(self, username):\n",
    "        if len(username) >= 1:\n",
    "            self._username = username\n",
    "        else: raise EmailFault(\"Invalid username\")\n",
    "    \n",
    "    @property\n",
    "    def domainname(self):\n",
    "        return self._domainname\n",
    "    \n",
    "    @domainname.setter\n",
    "    def domainname(self, domainname):\n",
    "        if len(domainname) >= 1:\n",
    "            self._domainname = domainname\n",
    "        else: raise EmailFault(\"Invalid domainname\")\n",
    "\n",
    "    @property\n",
    "    def topdomain(self):\n",
    "        return self._topdomain\n",
    "    \n",
    "    @topdomain.setter\n",
    "    def topdomain(self, topdomain):\n",
    "        if len(topdomain) >= 2:\n",
    "            self._topdomain = topdomain\n",
    "        else: raise EmailFault(\"Invalid topdomain\")\n",
    "\n",
    "email1 = Email(\"hej@gma.com\")\n",
    "\n",
    "\n",
    "\n"
   ]
  },
  {
   "cell_type": "code",
   "execution_count": null,
   "metadata": {},
   "outputs": [],
   "source": [
    "#  if address.strip():\n",
    "#             try:\n",
    "#                 if '@' not in address: \n",
    "#                     raise EmailFault(\"Your address should contain a @\")\n",
    "\n",
    "#                 if '.' not in address:\n",
    "#                     raise EmailFault(\"Your address should conatin a .\")\n",
    "\n",
    "#                 if len(address) > 5:\n",
    "#                     address = address.split('@')\n",
    "#                     self._username = address[0]\n",
    "#                     self._domainname = address[1]\n",
    "\n",
    "#                     address = address[-1].split('.')\n",
    "#                     if len(address) > 2\n",
    "#                         self._topdomain = address[-1]\n",
    "#                     else:\n",
    "#                         raise EmailFault(\"Enter a correct email\")\n",
    "\n",
    "\n",
    "#                 else:\n",
    "#                     raise EmailFault(\"Enter a correct email\")\n",
    "                    \n",
    "                \n",
    "\n",
    "\n",
    "#             except EmailFault as e:\n",
    "#                 print(e)"
   ]
  }
 ],
 "metadata": {
  "kernelspec": {
   "display_name": "Python-Rasmus-Berghall-PaJStNKF",
   "language": "python",
   "name": "python3"
  },
  "language_info": {
   "codemirror_mode": {
    "name": "ipython",
    "version": 3
   },
   "file_extension": ".py",
   "mimetype": "text/x-python",
   "name": "python",
   "nbconvert_exporter": "python",
   "pygments_lexer": "ipython3",
   "version": "3.11.5"
  },
  "orig_nbformat": 4
 },
 "nbformat": 4,
 "nbformat_minor": 2
}
