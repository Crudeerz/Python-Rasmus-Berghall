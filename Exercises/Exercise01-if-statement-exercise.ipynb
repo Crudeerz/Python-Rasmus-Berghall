{
 "cells": [
  {
   "cell_type": "markdown",
   "metadata": {},
   "source": [
    "# 1. Check sign"
   ]
  },
  {
   "cell_type": "code",
   "execution_count": 9,
   "metadata": {},
   "outputs": [
    {
     "name": "stdout",
     "output_type": "stream",
     "text": [
      "2 is a positive number!\n"
     ]
    }
   ],
   "source": [
    "num = int(input(\"Enter a number, it can be negative, positive or zero: \"))\n",
    "# num = int(num)\n",
    "if num > 0 :\n",
    "    print(f\"{num} is a positive number!\")\n",
    "elif num < 0 :\n",
    "    print(f\"{num} is a negative number!\")\n",
    "else:\n",
    "    print(f\"Your input: {num} is zero!\")"
   ]
  },
  {
   "cell_type": "markdown",
   "metadata": {},
   "source": [
    "# 2. Smallest"
   ]
  },
  {
   "cell_type": "code",
   "execution_count": 19,
   "metadata": {},
   "outputs": [
    {
     "name": "stdout",
     "output_type": "stream",
     "text": [
      "The first number you entered: 3, is the smallest\n"
     ]
    }
   ],
   "source": [
    "num1 = int(input(\"Enter two numbers: \"))\n",
    "num2 = int(input(\"Enter one more number: \"))\n",
    "\n",
    "if num1 < num2: \n",
    "    print(f\"The first number you entered: {num1}, is the smallest\")\n",
    "elif num2 < num1: \n",
    "    print(f\"The second number you entered: {num2}, is the smallest\")\n",
    "else: \n",
    "    print(f\"{num1} and {num2} is the same number, please input different numbers!\")\n",
    "\n",
    "\n"
   ]
  },
  {
   "cell_type": "markdown",
   "metadata": {},
   "source": [
    "# 3. Right angle"
   ]
  },
  {
   "cell_type": "code",
   "execution_count": 26,
   "metadata": {},
   "outputs": [
    {
     "name": "stdout",
     "output_type": "stream",
     "text": [
      "Your triangle has a right angle\n"
     ]
    }
   ],
   "source": [
    "x = int(input(\"Enter the first angle of your triangle: \"))\n",
    "y = int(input(\"Enter the second angle of your triangle: \"))\n",
    "z = int(input(\"Enter the third angle of your triangle: \"))\n",
    "\n",
    "if x + y + z != 180:\n",
    "    print(\"Your angles can't be correct! The sum of your angles doesn't add up to 180degrees\")\n",
    "\n",
    "if x ==90 or y == 90 or z == 90: \n",
    "    print(\"Your triangle has a right angle\")\n",
    "else: \n",
    "    print(\"Your triangle doesn't have a right angle\")\n",
    "\n",
    "\n"
   ]
  },
  {
   "cell_type": "markdown",
   "metadata": {},
   "source": [
    "# 4. Medicine"
   ]
  },
  {
   "cell_type": "code",
   "execution_count": 31,
   "metadata": {},
   "outputs": [
    {
     "name": "stdout",
     "output_type": "stream",
     "text": [
      "You should not take theese pills!\n"
     ]
    }
   ],
   "source": [
    "weight = int(input(\"Please enter your weight in kg: \"))\n",
    "age = int(input(\"How old are you?\"))\n",
    "\n",
    "if weight > 40:\n",
    "    print(\"You shoul take 1-2 pills\")\n",
    "elif 40 > weight > 25:\n",
    "    print(\"You should take 1/2-1 pill\")\n",
    "elif 15 > weight or age < 3:\n",
    "    print(\"You should not take theese pills!\")\n",
    "else: \n",
    "    print(\"You should take 1/2 pill\")\n"
   ]
  },
  {
   "cell_type": "markdown",
   "metadata": {},
   "source": [
    "# 5. Divisible"
   ]
  },
  {
   "cell_type": "code",
   "execution_count": 36,
   "metadata": {},
   "outputs": [
    {
     "name": "stdout",
     "output_type": "stream",
     "text": [
      " a) 22 is an even number\n",
      " b) 22 is not divisible by 5\n",
      " c) 22 is not divisible by 5 and not odd\n"
     ]
    }
   ],
   "source": [
    "num = int(input(\"Write a number: \"))\n",
    "\n",
    "########### A ############\n",
    "if num % 2 == 0:\n",
    "    print(f\" a) {num} is an even number\")\n",
    "else:\n",
    "     print(f\" a) {num} is an odd number\")\n",
    "\n",
    "########### B ############\n",
    "if num % 5 == 0: \n",
    "     print(f\" b) {num} is divisible by 5\")\n",
    "else: \n",
    "     print(f\" b) {num} is not divisible by 5\")\n",
    "\n",
    "########### C ############\n",
    "if num % 5 == 0 and num % 2 != 0: \n",
    "     print(f\" c) {num} is divisible by 5 and odd\")\n",
    "else: \n",
    "     print(f\" c) {num} is not divisible by 5 and not odd\")\n",
    "\n"
   ]
  },
  {
   "cell_type": "markdown",
   "metadata": {},
   "source": [
    "# 6. Luggage size\n"
   ]
  },
  {
   "cell_type": "code",
   "execution_count": 38,
   "metadata": {},
   "outputs": [
    {
     "name": "stdout",
     "output_type": "stream",
     "text": [
      "Your luggage is allowed\n"
     ]
    }
   ],
   "source": [
    "weight = int(input(\"Enter the weight of your luggage (kg): \"))\n",
    "length= int(input(\"Enter the length of your luggage (cm): \"))\n",
    "width= int(input(\"Enter the width of your luggage (cm): \"))\n",
    "height= int(input(\"Enter the height of your luggage (cm): \"))\n",
    "\n",
    "if weight > 8 or length > 55 or width > 40 or height > 23:\n",
    "    print(\"Your luggage is not allowed on this flight\")\n",
    "else: \n",
    "    print(\"Your luggage is allowed\")\n"
   ]
  }
 ],
 "metadata": {
  "kernelspec": {
   "display_name": "Python-Rasmus-Berghall-PaJStNKF",
   "language": "python",
   "name": "python3"
  },
  "language_info": {
   "codemirror_mode": {
    "name": "ipython",
    "version": 3
   },
   "file_extension": ".py",
   "mimetype": "text/x-python",
   "name": "python",
   "nbconvert_exporter": "python",
   "pygments_lexer": "ipython3",
   "version": "3.11.5"
  },
  "orig_nbformat": 4
 },
 "nbformat": 4,
 "nbformat_minor": 2
}
