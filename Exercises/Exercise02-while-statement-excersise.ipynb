{
 "cells": [
  {
   "cell_type": "markdown",
   "metadata": {},
   "source": [
    "# 1. Count numbers"
   ]
  },
  {
   "cell_type": "code",
   "execution_count": 7,
   "metadata": {},
   "outputs": [
    {
     "name": "stdout",
     "output_type": "stream",
     "text": [
      "-10 -9 -8 -7 -6 -5 -4 -3 -2 -1 0 1 2 3 4 5 6 7 8 9 10 "
     ]
    }
   ],
   "source": [
    "i = -11\n",
    "while -11 <= i <= 9: \n",
    "    i += 1\n",
    "    print(i, end=' ')"
   ]
  },
  {
   "cell_type": "code",
   "execution_count": 43,
   "metadata": {},
   "outputs": [
    {
     "name": "stdout",
     "output_type": "stream",
     "text": [
      "a) 5050 b) 2500"
     ]
    }
   ],
   "source": [
    "i = 0\n",
    "sum = 0\n",
    "j = 1\n",
    "sum1 = 0\n",
    "\n",
    "\n",
    "while i < 100:\n",
    "    i += 1\n",
    "    sum  = sum + i\n",
    "print(f\"a) {sum}\", end=' ')\n",
    "\n",
    "\n",
    "while j <= 99:\n",
    "    sum1 += j\n",
    "    j += 2\n",
    "print(f\"b) {sum1}\", end='')\n",
    "\n"
   ]
  },
  {
   "cell_type": "markdown",
   "metadata": {},
   "source": [
    "# 3. Guess number game\n"
   ]
  },
  {
   "cell_type": "code",
   "execution_count": 24,
   "metadata": {},
   "outputs": [
    {
     "name": "stdout",
     "output_type": "stream",
     "text": [
      "You guessed wrong, try again! You have 3 guesses left\n",
      "You guessed wrong, try again! You have 2 guesses left\n",
      "You guessed wrong, try again! You have 1 guesses left\n",
      "You lost, the correct number was 22 restart the game\n"
     ]
    }
   ],
   "source": [
    "import random\n",
    "\n",
    "num = random.randint(1, 100)\n",
    "\n",
    "tries = int(input(\"How many tries do you want?\"))\n",
    "tries -= 1\n",
    "\n",
    "while tries >= 0: \n",
    "    user_num = int(input(\"Guess the number the computer chose: \"))\n",
    "    if num == user_num:\n",
    "        print(f\"You won! You guessed {user_num} and the computer chose {num}\")\n",
    "        break\n",
    "    elif num != user_num and tries > 0:\n",
    "        print(f\"You guessed wrong, try again! You have {tries} guesses left\")\n",
    "        tries -= 1\n",
    "    elif tries == 0: \n",
    "        break\n",
    "    else:\n",
    "        break\n",
    "\n",
    "print(f\"You lost, the correct number was {num} restart the game\")"
   ]
  }
 ],
 "metadata": {
  "kernelspec": {
   "display_name": "Python-Rasmus-Berghall-PaJStNKF",
   "language": "python",
   "name": "python3"
  },
  "language_info": {
   "codemirror_mode": {
    "name": "ipython",
    "version": 3
   },
   "file_extension": ".py",
   "mimetype": "text/x-python",
   "name": "python",
   "nbconvert_exporter": "python",
   "pygments_lexer": "ipython3",
   "version": "3.11.5"
  },
  "orig_nbformat": 4
 },
 "nbformat": 4,
 "nbformat_minor": 2
}
