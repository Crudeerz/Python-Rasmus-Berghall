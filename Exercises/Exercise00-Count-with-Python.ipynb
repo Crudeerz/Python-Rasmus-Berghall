{
 "cells": [
  {
   "cell_type": "markdown",
   "metadata": {},
   "source": [
    "# 1. Pythagoras"
   ]
  },
  {
   "cell_type": "markdown",
   "metadata": {},
   "source": [
    "### a)"
   ]
  },
  {
   "cell_type": "code",
   "execution_count": 3,
   "metadata": {},
   "outputs": [
    {
     "data": {
      "text/plain": [
       "5"
      ]
     },
     "execution_count": 3,
     "metadata": {},
     "output_type": "execute_result"
    }
   ],
   "source": [
    "import math\n",
    "a = 3\n",
    "b = 4\n",
    "\n",
    "c = (a ** 2 + b ** 2)\n",
    "c = math.sqrt(c)\n",
    "c = math.floor(c)\n",
    "c"
   ]
  },
  {
   "cell_type": "markdown",
   "metadata": {},
   "source": [
    "### b)"
   ]
  },
  {
   "cell_type": "code",
   "execution_count": 4,
   "metadata": {},
   "outputs": [
    {
     "data": {
      "text/plain": [
       "4.898979485566356"
      ]
     },
     "execution_count": 4,
     "metadata": {},
     "output_type": "execute_result"
    }
   ],
   "source": [
    "''' Pythagorean Theorem\n",
    " c^2 = a^2 + b^2\n",
    " b^2 = c^2 - a^2\n",
    " \n",
    "'''\n",
    "\n",
    "a = 5.0\n",
    "c = 7.0\n",
    "\n",
    "b = (c ** 2 - a ** 2)\n",
    "b = math.sqrt(b)\n",
    "b\n",
    "\n"
   ]
  },
  {
   "cell_type": "markdown",
   "metadata": {},
   "source": [
    "# 2. Classification accuracy"
   ]
  },
  {
   "cell_type": "code",
   "execution_count": 23,
   "metadata": {},
   "outputs": [
    {
     "name": "stdout",
     "output_type": "stream",
     "text": [
      "Accuracy was 82.2%\n"
     ]
    }
   ],
   "source": [
    "tot = 365\n",
    "correct = 300\n",
    "accuracy = correct / tot\n",
    "print(f\"Accuracy was {accuracy:.1%}\")\n",
    "\n"
   ]
  },
  {
   "cell_type": "markdown",
   "metadata": {},
   "source": [
    "# 3. Classification accuracy\n",
    "\n"
   ]
  },
  {
   "cell_type": "code",
   "execution_count": 22,
   "metadata": {},
   "outputs": [
    {
     "name": "stdout",
     "output_type": "stream",
     "text": [
      "It was a good model with 98.7% accuracy\n"
     ]
    }
   ],
   "source": [
    "TP = 2\n",
    "FP = 2\n",
    "FN = 11\n",
    "TN = 985\n",
    "\n",
    "accuracy = (TP + TN) / (TP + TN + FP + FN)\n",
    "print(f\"It was a good model with {accuracy:.1%} accuracy\")\n",
    "\n"
   ]
  },
  {
   "cell_type": "markdown",
   "metadata": {},
   "source": [
    "# 4. Line"
   ]
  },
  {
   "cell_type": "code",
   "execution_count": 11,
   "metadata": {},
   "outputs": [
    {
     "name": "stdout",
     "output_type": "stream",
     "text": [
      "k är = 0.75\n",
      "m är = 1.0\n"
     ]
    }
   ],
   "source": [
    "# A : (4,4)\n",
    "# B : (0,1)\n",
    "\n",
    "k = (1-4)/(0-4)\n",
    "print(f\"k är = {k}\")\n",
    "\n",
    "# y = kx + m\n",
    "# m = y - kx\n",
    "m = 4-k*4\n",
    "print(f\"m är = {m}\")"
   ]
  },
  {
   "cell_type": "markdown",
   "metadata": {},
   "source": [
    "# 5. Euclidean distance\n",
    "Point A : $X_1$ and $Y_1$  \n",
    "Point B : $X_2$ and $Y_2$  \n",
    "$P_1$ : (3,5)  \n",
    "$P_2$ : (-2,4)  \n"
   ]
  },
  {
   "cell_type": "code",
   "execution_count": 15,
   "metadata": {},
   "outputs": [
    {
     "name": "stdout",
     "output_type": "stream",
     "text": [
      "Distence between the points = 5.0990195135927845\n"
     ]
    }
   ],
   "source": [
    "def Euclidean(x1, y1, x2, y2):\n",
    "    d = (x2-x1)**2 + (y2-y1)**2\n",
    "    d = math.sqrt(d)\n",
    "    print(f\"Distence between the points = {d}\")\n",
    "   \n",
    "\n",
    "Euclidean(3,5,-2,4)\n"
   ]
  },
  {
   "cell_type": "markdown",
   "metadata": {},
   "source": [
    "# 6. Euclidean dist 3D\n",
    "$P_1$ : (2,1,4)  \n",
    "$P_2$ : (3,1,0)  \n"
   ]
  },
  {
   "cell_type": "code",
   "execution_count": 16,
   "metadata": {},
   "outputs": [
    {
     "name": "stdout",
     "output_type": "stream",
     "text": [
      "Distence between the points = 4.123105625617661\n"
     ]
    }
   ],
   "source": [
    "def Euclidean3d(x1, y1, z1, x2, y2, z2):\n",
    "    d = (x2-x1)**2 + (y2-y1)**2 + (z2-z1)**2\n",
    "    d = math.sqrt(d)\n",
    "    print(f\"Distence between the points = {d}\")\n",
    "\n",
    "Euclidean3d(2, 1, 4, 3, 1, 0)"
   ]
  }
 ],
 "metadata": {
  "kernelspec": {
   "display_name": "Python-Rasmus-Berghall-PaJStNKF",
   "language": "python",
   "name": "python3"
  },
  "language_info": {
   "codemirror_mode": {
    "name": "ipython",
    "version": 3
   },
   "file_extension": ".py",
   "mimetype": "text/x-python",
   "name": "python",
   "nbconvert_exporter": "python",
   "pygments_lexer": "ipython3",
   "version": "3.11.5"
  },
  "orig_nbformat": 4
 },
 "nbformat": 4,
 "nbformat_minor": 2
}
