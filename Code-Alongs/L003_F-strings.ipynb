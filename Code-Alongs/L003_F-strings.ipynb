{
 "cells": [
  {
   "cell_type": "markdown",
   "metadata": {},
   "source": [
    "# f-strings (Formatted string literals)\n",
    "- literal starts with f or F\n",
    "- variables or expressions can be inserted using {}\n",
    "- use = after result to print expressions and results (not only result)\n",
    "- quotes can be used inside expression as long as they differ from the quotetype of the f-string.\n",
    "- For padding and alignment, use :{padding chracter(default space)}{alignment}{width}\n",
    "- Alignments: Left <, Center ^. Right >. Default alignemnts left for string, right for numerics.\n",
    "- Data type: Add data type after padding alignment eg: x:<20.2f\n",
    "- Data type format: Fixed-point notation (f), Exponent notation(e), Percantage (%). (Default precision is 6)\n",
    "- Use comma for thousands separations eg: (1000:,) or (1000:,)"
   ]
  },
  {
   "cell_type": "code",
   "execution_count": 29,
   "metadata": {},
   "outputs": [
    {
     "name": "stdout",
     "output_type": "stream",
     "text": [
      "Hello Rasmus    !\n",
      "5 + 8 = 13\n",
      "Hej 'Rasmus'.\n",
      "Hej \"Rasmus\".\n",
      "0.78\n",
      "7.80e-01\n",
      "78.000000%\n",
      "1,000,000.00\n"
     ]
    }
   ],
   "source": [
    "name = \"Rasmus\" #input(\"Enter your name: \")\n",
    "myString = f\"Hello {name:10}!\"\n",
    "print(myString)\n",
    "\n",
    "print(f\"{5 + 8 = }\")\n",
    "print(f\"Hej 'Rasmus'.\")\n",
    "print(f\"Hej \\\"Rasmus\\\".\")\n",
    "\n",
    "print(f\"{0.78:.2f}\")\n",
    "print(f\"{0.78:.2e}\")\n",
    "print(f\"{0.78:%}\")\n",
    "print(f\"{1000000:,.2f}\")"
   ]
  },
  {
   "cell_type": "code",
   "execution_count": 23,
   "metadata": {},
   "outputs": [
    {
     "name": "stdout",
     "output_type": "stream",
     "text": [
      "Rasmus..............Berghäll\n",
      "Firstname...........Lastname\n"
     ]
    }
   ],
   "source": [
    "first_name = \"Rasmus\"\n",
    "last_name = \"Berghäll\"\n",
    "\n",
    "print(f\"{first_name:.<20}{last_name}\")\n",
    "print(f\"{'Firstname':.<20}{'Lastname'}\")"
   ]
  }
 ],
 "metadata": {
  "kernelspec": {
   "display_name": "Python-Rasmus-Berghall-PaJStNKF",
   "language": "python",
   "name": "python3"
  },
  "language_info": {
   "codemirror_mode": {
    "name": "ipython",
    "version": 3
   },
   "file_extension": ".py",
   "mimetype": "text/x-python",
   "name": "python",
   "nbconvert_exporter": "python",
   "pygments_lexer": "ipython3",
   "version": "3.11.5"
  },
  "orig_nbformat": 4
 },
 "nbformat": 4,
 "nbformat_minor": 2
}
