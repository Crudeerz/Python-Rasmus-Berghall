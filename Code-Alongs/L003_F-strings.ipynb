{
 "cells": [
  {
   "cell_type": "markdown",
   "metadata": {},
   "source": [
    "# f-strings (Formatted string literals)\n",
    "- literal starts with f or F\n",
    "- variables or expressions can be inserted using {}\n",
    "- use = after result to print expressions and results (not only result)\n",
    "- quotes can be used inside expression as long as they differ from the quotetype of the f-string.\n"
   ]
  },
  {
   "cell_type": "code",
   "execution_count": 10,
   "metadata": {},
   "outputs": [
    {
     "name": "stdout",
     "output_type": "stream",
     "text": [
      "Hello Rasmus!\n",
      "5 + 8 = 13\n",
      "Hej 'Rasmus'.\n",
      "Hej \"Rasmus\".\n"
     ]
    }
   ],
   "source": [
    "name = \"Rasmus\" #input(\"Enter your name: \")\n",
    "myString = f\"Hello {name}!\"\n",
    "print(myString)\n",
    "\n",
    "print(f\"{5 + 8 = }\")\n",
    "print(f\"Hej 'Rasmus'.\")\n",
    "print(f\"Hej \\\"Rasmus\\\".\")"
   ]
  }
 ],
 "metadata": {
  "kernelspec": {
   "display_name": "Python-Rasmus-Berghall-PaJStNKF",
   "language": "python",
   "name": "python3"
  },
  "language_info": {
   "codemirror_mode": {
    "name": "ipython",
    "version": 3
   },
   "file_extension": ".py",
   "mimetype": "text/x-python",
   "name": "python",
   "nbconvert_exporter": "python",
   "pygments_lexer": "ipython3",
   "version": "3.11.5"
  },
  "orig_nbformat": 4
 },
 "nbformat": 4,
 "nbformat_minor": 2
}
