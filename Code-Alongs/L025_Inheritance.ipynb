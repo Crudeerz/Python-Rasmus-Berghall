{
 "cells": [
  {
   "cell_type": "markdown",
   "metadata": {},
   "source": [
    "# Inheritance"
   ]
  },
  {
   "cell_type": "code",
   "execution_count": 82,
   "metadata": {},
   "outputs": [
    {
     "name": "stdout",
     "output_type": "stream",
     "text": [
      "Misse\n",
      "Meja\n",
      "Misse is running\n",
      "Meja is running\n",
      "Meja is barking: VOFF!!\n",
      "Nemo is swimming\n"
     ]
    }
   ],
   "source": [
    "class Animal: \n",
    "    def __init__(self, name):\n",
    "        self.name = name\n",
    "\n",
    "    # def __repr__(self):\n",
    "    #     return f\"My name is {self.name} and I am a {type(self)}\"\n",
    "    \n",
    "    def move(self):\n",
    "        print(f\"{self.name} is running\")\n",
    "    \n",
    "class Cat(Animal):\n",
    "    ...\n",
    "\n",
    "class Dog(Animal):\n",
    "    def __init__(self, name, is_loud = False):\n",
    "        super().__init__(name)\n",
    "        self._is_loud = is_loud\n",
    "\n",
    "                \n",
    "    def bark(self):\n",
    "        print(f\"{self.name} is barking: {'VOFF!!' if self._is_loud else 'voff'}\")\n",
    "\n",
    "class Fish(Animal):\n",
    "    def move(self):   \n",
    "        print(f\"{self.name} is swimming\")\n",
    "\n",
    "\n",
    "\n",
    "        \n",
    "animals = [\n",
    "    Cat(\"Misse\"),\n",
    "    Dog(\"Meja\", is_loud=True),\n",
    "    Fish(\"Nemo\")\n",
    "]\n",
    "print(animals[0].name)\n",
    "print(animals[1].name)\n",
    "for animal in animals: \n",
    "    animal.move()\n",
    "    #if hasattr(animal, \"bark\"):\n",
    "    # if type(animal) is Dog:\n",
    "    if isinstance(animal, Dog):\n",
    "        animal.bark()\n",
    "\n",
    "\n"
   ]
  },
  {
   "cell_type": "code",
   "execution_count": 50,
   "metadata": {},
   "outputs": [
    {
     "name": "stdout",
     "output_type": "stream",
     "text": [
      "isinstance(my_cat, Cat) = True\n",
      "isinstance(my_cat, Dog) = False\n",
      "isinstance(my_cat, Animal) = True\n",
      "isinstance(my_cat, object) = True\n"
     ]
    }
   ],
   "source": [
    "my_cat = Cat(\"Pelle\")\n",
    "print(f\"{isinstance(my_cat, Cat) = }\")\n",
    "print(f\"{isinstance(my_cat, Dog) = }\")\n",
    "print(f\"{isinstance(my_cat, Animal) = }\")\n",
    "print(f\"{isinstance(my_cat, object) = }\")"
   ]
  },
  {
   "cell_type": "code",
   "execution_count": 51,
   "metadata": {},
   "outputs": [
    {
     "name": "stdout",
     "output_type": "stream",
     "text": [
      "<__main__.Cat object at 0x000002ACBDD2CA90>\n"
     ]
    }
   ],
   "source": [
    "print(my_cat)"
   ]
  },
  {
   "cell_type": "code",
   "execution_count": 57,
   "metadata": {},
   "outputs": [
    {
     "name": "stdout",
     "output_type": "stream",
     "text": [
      "issubclass(Cat, Animal) = True\n",
      "issubclass(Cat, Dog) = False\n",
      "issubclass(Animal, Cat) = False\n",
      "issubclass(Animal, object) = True\n"
     ]
    }
   ],
   "source": [
    "print(f\"{issubclass(Cat, Animal) = }\")\n",
    "print(f\"{issubclass(Cat, Dog) = }\")\n",
    "print(f\"{issubclass(Animal, Cat) = }\")\n",
    "print(f\"{issubclass(Animal, object) = }\")"
   ]
  },
  {
   "cell_type": "code",
   "execution_count": 60,
   "metadata": {},
   "outputs": [
    {
     "name": "stdout",
     "output_type": "stream",
     "text": [
      "hasattr(my_dog, 'name') = True\n",
      "hasattr(my_dog, 'age') = False\n",
      "hasattr(my_dog, 'bark') = True\n",
      "hasattr(my_dog, '__init__') = True\n",
      "hasattr(my_dog, '__dict__') = True\n"
     ]
    }
   ],
   "source": [
    "my_dog = Dog(\"Meja\")\n",
    "print(f\"{hasattr(my_dog, 'name') = }\")\n",
    "print(f\"{hasattr(my_dog, 'age') = }\")\n",
    "print(f\"{hasattr(my_dog, 'bark') = }\")\n",
    "print(f\"{hasattr(my_dog, '__init__') = }\")\n",
    "print(f\"{hasattr(my_dog, '__dict__') = }\")"
   ]
  }
 ],
 "metadata": {
  "kernelspec": {
   "display_name": "Python-Rasmus-Berghall-PaJStNKF",
   "language": "python",
   "name": "python3"
  },
  "language_info": {
   "codemirror_mode": {
    "name": "ipython",
    "version": 3
   },
   "file_extension": ".py",
   "mimetype": "text/x-python",
   "name": "python",
   "nbconvert_exporter": "python",
   "pygments_lexer": "ipython3",
   "version": "3.11.5"
  },
  "orig_nbformat": 4
 },
 "nbformat": 4,
 "nbformat_minor": 2
}
