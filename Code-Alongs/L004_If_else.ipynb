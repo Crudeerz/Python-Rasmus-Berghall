{
 "cells": [
  {
   "cell_type": "markdown",
   "metadata": {},
   "source": [
    "# If statements\n",
    "- if\n",
    "- elif\n",
    "- else\n",
    "\n"
   ]
  },
  {
   "cell_type": "code",
   "execution_count": 15,
   "metadata": {},
   "outputs": [
    {
     "name": "stdout",
     "output_type": "stream",
     "text": [
      "Hello Kalle!\n"
     ]
    }
   ],
   "source": [
    "x = 50\n",
    "name = \"Kalle\"\n",
    "if x < 10 or name == \"Rasmus\": \n",
    "    print(\"Yes!\")\n",
    "elif name == \"Oskar\":\n",
    "    print(\"Hello Oskar!\")\n",
    "elif name == \"Kalle\":\n",
    "    print(\"Hello Kalle!\")\n",
    "else: \n",
    "    print(\"No!\")\n",
    "    print(\"False!\")\n",
    "\n"
   ]
  },
  {
   "cell_type": "markdown",
   "metadata": {},
   "source": [
    "# One line if statement\n",
    "When the if statement is followed by only one statement"
   ]
  },
  {
   "cell_type": "code",
   "execution_count": 17,
   "metadata": {},
   "outputs": [
    {
     "name": "stdout",
     "output_type": "stream",
     "text": [
      "Yes!\n"
     ]
    }
   ],
   "source": [
    "x = 5\n",
    "name = \"Kalle\"\n",
    "if x < 10 or name == \"Rasmus\": print(\"Yes!\")"
   ]
  },
  {
   "cell_type": "markdown",
   "metadata": {},
   "source": [
    "# Ternary operator\n",
    "A special operator that take three operands and returns one of those choices depending on if the middle expression evaluate to true or false.  \n",
    "*(TrueValue  if expression  else FalseValue)*\n"
   ]
  },
  {
   "cell_type": "code",
   "execution_count": 26,
   "metadata": {},
   "outputs": [
    {
     "name": "stdout",
     "output_type": "stream",
     "text": [
      "Rasmus Berghäll\n",
      "Time is 2 seconds\n"
     ]
    }
   ],
   "source": [
    "name = \"Rasmus\"\n",
    "\n",
    "lastname = \"Berghäll\" if name == \"Rasmus\" else \"???\"\n",
    "\n",
    "print(f\"{name} {lastname}\")\n",
    "\n",
    "seconds = 2\n",
    "print(f\"Time is {seconds} second{'s' if seconds != 1 else ' '}\")"
   ]
  }
 ],
 "metadata": {
  "kernelspec": {
   "display_name": "Python-Rasmus-Berghall-PaJStNKF",
   "language": "python",
   "name": "python3"
  },
  "language_info": {
   "codemirror_mode": {
    "name": "ipython",
    "version": 3
   },
   "file_extension": ".py",
   "mimetype": "text/x-python",
   "name": "python",
   "nbconvert_exporter": "python",
   "pygments_lexer": "ipython3",
   "version": "3.11.5"
  },
  "orig_nbformat": 4
 },
 "nbformat": 4,
 "nbformat_minor": 2
}
