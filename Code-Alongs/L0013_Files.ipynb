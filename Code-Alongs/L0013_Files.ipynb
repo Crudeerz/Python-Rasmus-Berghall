{
 "cells": [
  {
   "cell_type": "markdown",
   "metadata": {},
   "source": [
    "# Files\n",
    "\n",
    "## Load and save data to and from files\n",
    "\n",
    "We can categorize files in to 2 main categories, text files and binary files. \n",
    "- Text files store text / characters in a human readable format\n",
    "- Binary files stores byte data (1's and 0's) that only computers understand. \n",
    "\n",
    "## Common text based files to store data\n",
    "\n",
    "- **.txt** plain text.\n",
    "- **.csv** Comma separated values\n",
    "- **.json** Javascript object notation\n",
    "\n",
    "## File names and file paths\n",
    "\n",
    "A file name usually has two parts, the name, and the file extension, separated with a dot (name.extension)\n",
    "\n",
    "e.g. hello.txt data.json myimage.jpg\n",
    "\n",
    "Paths can be expressed as either relative or absolute.\n",
    "\n",
    "- **Absolute:** Full path to access a file or folder. Ex. D:\\ITHS\\Github\\Python-Rasmus-Berghall\\Data\\hello.txt\n",
    "\n",
    "- **Relative:** Relative from the current active folder: data\\data.json\n",
    "\n",
    "\n",
    "## File modes\n",
    "\n",
    "- **'r'** Reads file\n",
    "- **'w'** Writes to file, removes already existing content\n",
    "- **'a'** Writes to file, adding the content to already existing content.\n"
   ]
  },
  {
   "cell_type": "markdown",
   "metadata": {},
   "source": [
    "## Open file for reading"
   ]
  },
  {
   "cell_type": "code",
   "execution_count": 30,
   "metadata": {},
   "outputs": [
    {
     "name": "stdout",
     "output_type": "stream",
     "text": [
      "In med mer texttttthejsan\n",
      "Tjenamors\n",
      "\n"
     ]
    }
   ],
   "source": [
    "\n",
    "file = open('..\\Data\\hello.txt')\n",
    "\n",
    "print(file.read())\n"
   ]
  },
  {
   "cell_type": "markdown",
   "metadata": {},
   "source": [
    "## Open with context management\n",
    "\n"
   ]
  },
  {
   "cell_type": "code",
   "execution_count": 39,
   "metadata": {},
   "outputs": [
    {
     "name": "stdout",
     "output_type": "stream",
     "text": [
      "In med mer texttttthejsan\n",
      "Tjenamors\n",
      "Hejsanhoppsan \n",
      "\n"
     ]
    }
   ],
   "source": [
    "with open('..\\Data\\hello.txt', 'r') as file:\n",
    "    #file.write('Hejsanhoppsan \\n')\n",
    "    print(file.read())\n"
   ]
  },
  {
   "cell_type": "markdown",
   "metadata": {},
   "source": [
    "## Open file for writing\n"
   ]
  },
  {
   "cell_type": "code",
   "execution_count": 28,
   "metadata": {},
   "outputs": [],
   "source": [
    "\n",
    "file = open('..\\Data\\hello.txt', 'a')\n",
    "\n",
    "new_content = input('Skriv in ny text: ')\n",
    "\n",
    "file.write(f'{new_content}\\n')\n",
    "file.close()\n"
   ]
  },
  {
   "cell_type": "markdown",
   "metadata": {},
   "source": [
    "## Mini-uppgift\n",
    "Skapa ett program som har en tom lista. När programmet körs får användaren mata in namn (input) i en loop tills användaren matar in en tom rad. När den är klar skrivs alla namnen ut på skärmen, samt sparas till en fil (med ett namn på varje rad.) Nästa gång man startar programmet så läser den in befintliga namnen."
   ]
  },
  {
   "cell_type": "code",
   "execution_count": 36,
   "metadata": {},
   "outputs": [
    {
     "name": "stdout",
     "output_type": "stream",
     "text": [
      "Rasmuis  \n",
      "Erik  \n",
      "Emelie \n",
      "Adamn \n",
      "Eva \n",
      "Tjena\n",
      "Mors\n"
     ]
    }
   ],
   "source": [
    "names = []\n",
    "\n",
    "with open('..\\\\Data\\\\names.txt') as file:\n",
    "        names = [name.strip('\\n') for name in file.readlines()]\n",
    "\n",
    "while True:    \n",
    "    name = input('Enter a name: ')\n",
    "    if name == '': break\n",
    "    names.append(name)\n",
    "\n",
    "for name in names:\n",
    "    print(name)\n",
    "\n",
    "with open('..\\\\Data\\\\names.txt', 'w') as file:\n",
    "    file.writelines([name + '\\n' for name in names])\n",
    "\n",
    "\n"
   ]
  },
  {
   "cell_type": "markdown",
   "metadata": {},
   "source": [
    "## Write .CSV files\n"
   ]
  },
  {
   "cell_type": "code",
   "execution_count": 48,
   "metadata": {},
   "outputs": [
    {
     "name": "stdout",
     "output_type": "stream",
     "text": [
      "[{'name': 'Rasmus', 'class': 'AI23', 'email': 'rasmus@gmail.com'}, {'name': 'Oscar', 'class': 'AI23', 'email': 'oscar@gmail.com'}, {'name': 'Erik', 'class': 'AI23', 'email': 'erik@gmail.com'}]\n"
     ]
    }
   ],
   "source": [
    "students = [\n",
    "    {'name': 'Rasmus', 'class': 'AI23', 'email': 'rasmus@gmail.com'},\n",
    "    {'name': 'Oscar', 'class': 'AI23', 'email': 'oscar@gmail.com'},\n",
    "    {'name': 'Erik', 'class': 'AI23', 'email': 'erik@gmail.com'}\n",
    "]\n",
    "\n",
    "print(students)\n",
    "\n",
    "with open('..\\\\Data\\\\students.csv', 'w') as file:\n",
    "    for student in students: \n",
    "        file.write(f\"{student['name']}, {student['class']}, {student['email']}\\n\")\n"
   ]
  },
  {
   "cell_type": "markdown",
   "metadata": {},
   "source": [
    "## Using csv package\n"
   ]
  },
  {
   "cell_type": "code",
   "execution_count": 61,
   "metadata": {},
   "outputs": [
    {
     "name": "stdout",
     "output_type": "stream",
     "text": [
      "[{'name': 'Oscar', 'class': ' AI23', 'email': ' oscar@gmail.com'}, {'name': 'Erik', 'class': ' AI23', 'email': ' erik@gmail.com'}]\n"
     ]
    }
   ],
   "source": [
    "import csv\n",
    "\n",
    "students = []\n",
    "\n",
    "with open(\"..\\\\Data\\\\students.csv\") as file:\n",
    "    reader = csv.DictReader(file)\n",
    "\n",
    "    for row in reader:\n",
    "        students.append({\"name\": row[\"name\"], \"class\": row[\"class\"], \"email\": row[\"email\"]})\n",
    "\n",
    "    \n",
    "print(students)\n"
   ]
  }
 ],
 "metadata": {
  "kernelspec": {
   "display_name": "Python-Rasmus-Berghall-PaJStNKF",
   "language": "python",
   "name": "python3"
  },
  "language_info": {
   "codemirror_mode": {
    "name": "ipython",
    "version": 3
   },
   "file_extension": ".py",
   "mimetype": "text/x-python",
   "name": "python",
   "nbconvert_exporter": "python",
   "pygments_lexer": "ipython3",
   "version": "3.11.5"
  },
  "orig_nbformat": 4
 },
 "nbformat": 4,
 "nbformat_minor": 2
}
