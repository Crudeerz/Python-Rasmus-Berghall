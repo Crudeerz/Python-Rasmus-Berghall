{
 "cells": [
  {
   "cell_type": "markdown",
   "metadata": {},
   "source": [
    "# List\n",
    "- Lists are one of 4 built-in data types in Python used to store collections of data, the other 3 are Tuple, Set, and Dictionary, all with different qualities and usage.\n",
    "- Lists are used to store multiple items in a single variable.\n",
    "- Lists are created using square brackets: []\n",
    "- List items are ordered, changeable (mutable), and allow duplicate values."
   ]
  },
  {
   "cell_type": "code",
   "execution_count": 5,
   "metadata": {},
   "outputs": [
    {
     "name": "stdout",
     "output_type": "stream",
     "text": [
      "fruits = ['apple', 'banana', 'cherry', 'orange', 'apple']\n",
      "len(fruits) = 5\n",
      "fruits.count('apple') = 2\n",
      "fruits = ['apple', 'banana', 'cherry', 'orange', 'apple', 'melon', 'kiwi']\n",
      "fruits = ['apple', 'banana', 'cherry', 'orange', 'apple', 'melon', 'kiwi', 'pear', 'coconut', 'pineapple']\n"
     ]
    }
   ],
   "source": [
    "fruits = [\"apple\", \"banana\", \"cherry\", \"orange\", \"apple\"]\n",
    "more_fruits = [\"pear\", \"coconut\", \"pineapple\"]\n",
    "\n",
    "print(f\"{fruits = }\")\n",
    "print(f\"{len(fruits) = }\")\n",
    "print(f\"{fruits.count('apple') = }\")\n",
    "\n",
    "fruits.append('melon')\n",
    "fruits.append('kiwi')\n",
    "print(f\"{fruits = }\")\n",
    "\n",
    "fruits += more_fruits # alt. fruits.extend(more_fruits)\n",
    "print(f\"{fruits = }\")"
   ]
  },
  {
   "cell_type": "code",
   "execution_count": 9,
   "metadata": {},
   "outputs": [
    {
     "name": "stdout",
     "output_type": "stream",
     "text": [
      "apple\n",
      "banana\n",
      "cherry\n",
      "orange\n",
      "apple\n",
      "melon\n",
      "kiwi\n",
      "pear\n",
      "coconut\n",
      "pineapple\n"
     ]
    }
   ],
   "source": [
    "for fruit in fruits: \n",
    "    print(f\"{fruit}\")"
   ]
  },
  {
   "cell_type": "markdown",
   "metadata": {},
   "source": [
    "# Mini-uppgift\n",
    "Skriv ett program som ber användaren mata in färger, en i taget, tills användares input är tom, varje färg ska läggas på en lista, och när användarens inmatning är slut så skrivs listan ut och hur många färger det är på listan"
   ]
  },
  {
   "cell_type": "code",
   "execution_count": 3,
   "metadata": {},
   "outputs": [
    {
     "name": "stdout",
     "output_type": "stream",
     "text": [
      "len(colors) = 2\n",
      "colors = ['green', 'blue']\n"
     ]
    }
   ],
   "source": [
    "colors = []\n",
    "\n",
    "while True: \n",
    "    color = input(\"Enter a color to insert in a list: \")      \n",
    "    if color != '': \n",
    "        colors.append(color)\n",
    "    else: \n",
    "        break\n",
    "\n",
    "print(f\"{len(colors) = }\")\n",
    "print(f\"{colors = }\")\n",
    "\n"
   ]
  },
  {
   "cell_type": "markdown",
   "metadata": {},
   "source": [
    "# Mini-uppgift 2\n",
    "### List comprehension\n",
    "5 frukter i manuell lista, lägg sedan på ! efter varje frukt i en ny lista"
   ]
  },
  {
   "cell_type": "code",
   "execution_count": 13,
   "metadata": {},
   "outputs": [
    {
     "name": "stdout",
     "output_type": "stream",
     "text": [
      "fruits = ['apple', 'banana', 'pear', 'pineapple', 'melon']\n",
      "fruits1 = ['apple!', 'banana!', 'pear!', 'pineapple!', 'melon!']\n"
     ]
    }
   ],
   "source": [
    "fruits = ['apple', 'banana', 'pear', 'pineapple', 'melon']\n",
    "\n",
    "fruits1 = [f\"{fruit}!\" for fruit in fruits]\n",
    "\n",
    "print(f\"{fruits = }\")\n",
    "print(f\"{fruits1 = }\")"
   ]
  },
  {
   "cell_type": "markdown",
   "metadata": {},
   "source": [
    "# Mini-uppgift 3\n",
    "a) ny lista från fruits med frukter som har 5 bokstäver\n",
    "\n",
    "b) Skapa en lista med alla heltal från 0-100, skapa en ny lista med alla jämna tal från den första listan.\n"
   ]
  },
  {
   "cell_type": "code",
   "execution_count": 24,
   "metadata": {},
   "outputs": [
    {
     "name": "stdout",
     "output_type": "stream",
     "text": [
      "['apple', 'melon']\n",
      "[0, 2, 4, 6, 8, 10, 12, 14, 16, 18, 20, 22, 24, 26, 28, 30, 32, 34, 36, 38, 40, 42, 44, 46, 48, 50, 52, 54, 56, 58, 60, 62, 64, 66, 68, 70, 72, 74, 76, 78, 80, 82, 84, 86, 88, 90, 92, 94, 96, 98]"
     ]
    }
   ],
   "source": [
    "## a ##\n",
    "fruits = ['apple', 'banana', 'pear', 'pineapple', 'melon', 'cherry']\n",
    "\n",
    "new_fruits = [fruit for fruit in fruits if len(fruit) == 5]\n",
    "print(new_fruits)\n",
    "\n",
    "\n",
    "## b ##\n",
    "\n",
    "newlist = [i for i in range(0,100) if i % 2 == 0]\n",
    "print(newlist, end= '')"
   ]
  }
 ],
 "metadata": {
  "kernelspec": {
   "display_name": "Python-Rasmus-Berghall-PaJStNKF",
   "language": "python",
   "name": "python3"
  },
  "language_info": {
   "codemirror_mode": {
    "name": "ipython",
    "version": 3
   },
   "file_extension": ".py",
   "mimetype": "text/x-python",
   "name": "python",
   "nbconvert_exporter": "python",
   "pygments_lexer": "ipython3",
   "version": "3.11.5"
  },
  "orig_nbformat": 4
 },
 "nbformat": 4,
 "nbformat_minor": 2
}
