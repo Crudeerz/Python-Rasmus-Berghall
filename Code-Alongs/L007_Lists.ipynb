{
 "cells": [
  {
   "cell_type": "markdown",
   "metadata": {},
   "source": [
    "# List\n",
    "- Lists are one of 4 built-in data types in Python used to store collections of data, the other 3 are Tuple, Set, and Dictionary, all with different qualities and usage.\n",
    "- Lists are used to store multiple items in a single variable.\n",
    "- Lists are created using square brackets: []\n",
    "- List items are ordered, changeable (mutable), and allow duplicate values."
   ]
  },
  {
   "cell_type": "code",
   "execution_count": 15,
   "metadata": {},
   "outputs": [
    {
     "name": "stdout",
     "output_type": "stream",
     "text": [
      "fruits = ['apple', 'banana', 'cherry', 'orange', 'apple']\n",
      "len(fruits) = 5\n",
      "fruits.count('apple') = 2\n",
      "fruits = ['apple', 'banana', 'cherry', 'orange', 'apple', 'melon', 'kiwi']\n",
      "fruits = ['apple', 'banana', 'cherry', 'orange', 'apple', 'melon', 'kiwi', 'pear', 'coconut', 'pineapple']\n"
     ]
    }
   ],
   "source": [
    "fruits = [\"apple\", \"banana\", \"cherry\", \"orange\", \"apple\"]\n",
    "more_fruits = [\"pear\", \"coconut\", \"pineapple\"]\n",
    "\n",
    "print(f\"{fruits = }\")\n",
    "print(f\"{len(fruits) = }\")\n",
    "print(f\"{fruits.count('apple') = }\")\n",
    "\n",
    "fruits.append('melon')\n",
    "fruits.append('kiwi')\n",
    "print(f\"{fruits = }\")\n",
    "\n",
    "fruits += more_fruits # alt. fruits.extend(more_fruits)\n",
    "print(f\"{fruits = }\")"
   ]
  },
  {
   "cell_type": "markdown",
   "metadata": {},
   "source": [
    "# Mini-uppgift\n",
    "Skriv ett program som ber användaren mata in färger, en i taget, tills användares input är tom, varje färg ska läggas på en lista, och när användarens inmatning är slut så skrivs listan ut och hur många färger det är på listan"
   ]
  },
  {
   "cell_type": "code",
   "execution_count": 21,
   "metadata": {},
   "outputs": [
    {
     "name": "stdout",
     "output_type": "stream",
     "text": [
      "len(colors) = 1\n",
      "colors = ['green']\n"
     ]
    }
   ],
   "source": [
    "colors = []\n",
    "\n",
    "while True: \n",
    "    color = input(\"Enter a color to insert in a list: \")\n",
    "    if color != '': \n",
    "        colors.append(color)\n",
    "    else: \n",
    "        break\n",
    "\n",
    "print(f\"{len(colors) = }\")\n",
    "print(f\"{colors = }\")\n",
    "\n"
   ]
  }
 ],
 "metadata": {
  "kernelspec": {
   "display_name": "Python-Rasmus-Berghall-PaJStNKF",
   "language": "python",
   "name": "python3"
  },
  "language_info": {
   "codemirror_mode": {
    "name": "ipython",
    "version": 3
   },
   "file_extension": ".py",
   "mimetype": "text/x-python",
   "name": "python",
   "nbconvert_exporter": "python",
   "pygments_lexer": "ipython3",
   "version": "3.11.5"
  },
  "orig_nbformat": 4
 },
 "nbformat": 4,
 "nbformat_minor": 2
}
