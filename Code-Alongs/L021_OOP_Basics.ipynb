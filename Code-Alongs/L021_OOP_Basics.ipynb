{
 "cells": [
  {
   "cell_type": "markdown",
   "metadata": {},
   "source": [
    "# Object oriented programming (OOP)\n",
    "- A \"class\" is a blueprint that can be used to create objects\n",
    "- An \"instance\" is the actual object containing data and mathods\n"
   ]
  },
  {
   "cell_type": "code",
   "execution_count": 30,
   "metadata": {},
   "outputs": [
    {
     "name": "stdout",
     "output_type": "stream",
     "text": [
      "Rasmus Berghäll\n",
      "Anners Annersson\n"
     ]
    }
   ],
   "source": [
    "student_a = {\"FirstName\" : \"Rasmus\", \"LastName\" : \"Berghäll\", \"Age\" :24, \"Grade\" : 3.5}\n",
    "student_b = {\"FirstName\" : \"Anners\", \"LastName\" : \"Annersson\", \"Age\" : 34, \"Grade\" : 2.8}\n",
    "\n",
    "students = [student_a, student_b]\n",
    "\n",
    "def set_grade(student, grade):\n",
    "    student[\"Grade\"] = grade\n",
    "\n",
    "def get_name(student):\n",
    "    return f'{student[\"FirstName\"]} {student[\"LastName\"]}'\n",
    "\n",
    "for student in students: \n",
    "    set_grade(student, 3.0)\n",
    "    print(get_name(student))\n",
    "\n",
    "pass"
   ]
  },
  {
   "cell_type": "code",
   "execution_count": 24,
   "metadata": {},
   "outputs": [],
   "source": [
    "class Student:\n",
    "    def __init__(self, name, grade):\n",
    "        self.grade = grade\n",
    "        self.name = name\n",
    "\n",
    "    def set_grade(self, grade):\n",
    "        self.grade = grade\n",
    "\n"
   ]
  },
  {
   "cell_type": "code",
   "execution_count": 26,
   "metadata": {},
   "outputs": [
    {
     "name": "stdout",
     "output_type": "stream",
     "text": [
      "{'grade': 4.5, 'name': 'Rasmus'}\n",
      "{'grade': 2.1, 'name': 'Anners'}\n",
      "\n",
      "{'grade': 5.0, 'name': 'Rasmus'}\n",
      "{'grade': 1.3, 'name': 'Anners'}\n"
     ]
    }
   ],
   "source": [
    "student_a = Student(\"Rasmus\", 4.5)\n",
    "student_b = Student(\"Anners\", 2.1)\n",
    "\n",
    "print(student_a.__dict__)\n",
    "print(student_b.__dict__)\n",
    "\n",
    "student_a.set_grade(5.0)\n",
    "student_b.set_grade(1.3)\n",
    "\n",
    "print()\n",
    "print(student_a.__dict__)\n",
    "print(student_b.__dict__)"
   ]
  },
  {
   "cell_type": "code",
   "execution_count": 32,
   "metadata": {},
   "outputs": [
    {
     "name": "stdout",
     "output_type": "stream",
     "text": [
      "Per\n",
      "Orvar\n",
      "{'grade': 3.3, 'name': 'Per'}\n",
      "{'grade': 1.3, 'name': 'Orvar'}\n",
      "Oskar\n",
      "Abbe\n",
      "{'grade': 3.3, 'name': 'Oskar', 'age': 24}\n",
      "{'grade': 1.3, 'name': 'Abbe'}\n"
     ]
    }
   ],
   "source": [
    "student_c = Student(\"Per\", 3.3)\n",
    "student_d = Student(\"Orvar\", 1.3)\n",
    "\n",
    "print(student_c.name)\n",
    "print(student_d.name)\n",
    "\n",
    "print(student_c.__dict__)\n",
    "print(student_d.__dict__)\n",
    "\n",
    "student_c.name = \"Oskar\"\n",
    "student_c.age = 24\n",
    "\n",
    "student_d.name = \"Abbe\"\n",
    "\n",
    "print(student_c.name)\n",
    "print(student_d.name)\n",
    "\n",
    "print(student_c.__dict__)\n",
    "print(student_d.__dict__)"
   ]
  },
  {
   "cell_type": "code",
   "execution_count": 114,
   "metadata": {},
   "outputs": [],
   "source": [
    "class Cat:\n",
    "    def __init__(self, name, age):\n",
    "        self.name = name\n",
    "        self.age = age\n",
    "    \n",
    "    def greet(self, say_hello_to = None):\n",
    "        if say_hello_to:\n",
    "\n",
    "            if self.age > say_hello_to.age:\n",
    "                diff = self.age - say_hello_to.age\n",
    "                str_y_o = f\"I am {diff} year{'s' if diff > 1 else ' '}older than you\"\n",
    "\n",
    "            elif self.age < say_hello_to.age:\n",
    "                diff = say_hello_to.age - self.age \n",
    "                str_y_o = f\"I am {diff} year{'s ' if diff > 1 else ' '}younger than you\"\n",
    "\n",
    "            else: \n",
    "                str_y_o = f\"we are the same age\"\n",
    "\n",
    "            print(f\"Hello {say_hello_to.name}, my name is {self.name} and {str_y_o}\")\n",
    "        \n",
    "        else:\n",
    "            print(f\"Hello, I'm {self.name} and I'm {self.age} years old\")\n",
    "\n",
    "\n",
    "    def print_best_friend(self):\n",
    "        if hasattr(self, \"best_friend\"):\n",
    "            print(f\"My name is {self.name} and my best friend is {self.best_friend.name}\")\n",
    "        else: \n",
    "            print(f\"My name is {self.name} and i don't have any friend\")    \n",
    " "
   ]
  },
  {
   "cell_type": "code",
   "execution_count": 115,
   "metadata": {},
   "outputs": [
    {
     "name": "stdout",
     "output_type": "stream",
     "text": [
      "My name is Misse and my best friend is Kisse\n",
      "My name is Kisse and i don't have any friend\n",
      "My name is Mjau and my best friend is Jens\n",
      "My name is Jens and my best friend is Kisse\n",
      "\n",
      "Hello, I'm Misse and I'm 3 years old\n",
      "Hello, I'm Kisse and I'm 2 years old\n",
      "Hello, I'm Mjau and I'm 5 years old\n",
      "Hello, I'm Jens and I'm 3 years old\n",
      "\n"
     ]
    },
    {
     "ename": "UnboundLocalError",
     "evalue": "cannot access local variable 'diff' where it is not associated with a value",
     "output_type": "error",
     "traceback": [
      "\u001b[1;31m---------------------------------------------------------------------------\u001b[0m",
      "\u001b[1;31mUnboundLocalError\u001b[0m                         Traceback (most recent call last)",
      "\u001b[1;32md:\\ITHS\\Github\\Python-Rasmus-Berghall\\Code-Alongs\\L021_OOP_Basics.ipynb Cell 7\u001b[0m line \u001b[0;36m2\n\u001b[0;32m     <a href='vscode-notebook-cell:/d%3A/ITHS/Github/Python-Rasmus-Berghall/Code-Alongs/L021_OOP_Basics.ipynb#X10sZmlsZQ%3D%3D?line=18'>19</a>\u001b[0m \u001b[39mprint\u001b[39m()\n\u001b[0;32m     <a href='vscode-notebook-cell:/d%3A/ITHS/Github/Python-Rasmus-Berghall/Code-Alongs/L021_OOP_Basics.ipynb#X10sZmlsZQ%3D%3D?line=19'>20</a>\u001b[0m \u001b[39mfor\u001b[39;00m cat \u001b[39min\u001b[39;00m cats[\u001b[39m1\u001b[39m:]:\n\u001b[1;32m---> <a href='vscode-notebook-cell:/d%3A/ITHS/Github/Python-Rasmus-Berghall/Code-Alongs/L021_OOP_Basics.ipynb#X10sZmlsZQ%3D%3D?line=20'>21</a>\u001b[0m     cats[\u001b[39m0\u001b[39;49m]\u001b[39m.\u001b[39;49mgreet(cat)\n\u001b[0;32m     <a href='vscode-notebook-cell:/d%3A/ITHS/Github/Python-Rasmus-Berghall/Code-Alongs/L021_OOP_Basics.ipynb#X10sZmlsZQ%3D%3D?line=21'>22</a>\u001b[0m \u001b[39m#My name is Misse and my best friend is Mjau\u001b[39;00m\n",
      "\u001b[1;32md:\\ITHS\\Github\\Python-Rasmus-Berghall\\Code-Alongs\\L021_OOP_Basics.ipynb Cell 7\u001b[0m line \u001b[0;36m8\n\u001b[0;32m      <a href='vscode-notebook-cell:/d%3A/ITHS/Github/Python-Rasmus-Berghall/Code-Alongs/L021_OOP_Basics.ipynb#X10sZmlsZQ%3D%3D?line=5'>6</a>\u001b[0m \u001b[39mdef\u001b[39;00m \u001b[39mgreet\u001b[39m(\u001b[39mself\u001b[39m, say_hello_to \u001b[39m=\u001b[39m \u001b[39mNone\u001b[39;00m):\n\u001b[0;32m      <a href='vscode-notebook-cell:/d%3A/ITHS/Github/Python-Rasmus-Berghall/Code-Alongs/L021_OOP_Basics.ipynb#X10sZmlsZQ%3D%3D?line=6'>7</a>\u001b[0m     \u001b[39mif\u001b[39;00m say_hello_to:\n\u001b[1;32m----> <a href='vscode-notebook-cell:/d%3A/ITHS/Github/Python-Rasmus-Berghall/Code-Alongs/L021_OOP_Basics.ipynb#X10sZmlsZQ%3D%3D?line=7'>8</a>\u001b[0m         \u001b[39mprint\u001b[39m(\u001b[39mf\u001b[39m\u001b[39m\"\u001b[39m\u001b[39mI am \u001b[39m\u001b[39m{\u001b[39;00mdiff\u001b[39m}\u001b[39;00m\u001b[39m year\u001b[39m\u001b[39m{\u001b[39;00m\u001b[39m'\u001b[39m\u001b[39ms\u001b[39m\u001b[39m'\u001b[39m\u001b[39m \u001b[39m\u001b[39mif\u001b[39;00m\u001b[39m \u001b[39mdiff\u001b[39m \u001b[39m\u001b[39m>\u001b[39m\u001b[39m \u001b[39m\u001b[39m1\u001b[39m\u001b[39m \u001b[39m\u001b[39melse\u001b[39;00m\u001b[39m \u001b[39m\u001b[39m'\u001b[39m\u001b[39m \u001b[39m\u001b[39m'\u001b[39m\u001b[39m}\u001b[39;00m\u001b[39m\"\u001b[39m)\n\u001b[0;32m      <a href='vscode-notebook-cell:/d%3A/ITHS/Github/Python-Rasmus-Berghall/Code-Alongs/L021_OOP_Basics.ipynb#X10sZmlsZQ%3D%3D?line=8'>9</a>\u001b[0m         \u001b[39mif\u001b[39;00m \u001b[39mself\u001b[39m\u001b[39m.\u001b[39mage \u001b[39m>\u001b[39m say_hello_to\u001b[39m.\u001b[39mage:\n\u001b[0;32m     <a href='vscode-notebook-cell:/d%3A/ITHS/Github/Python-Rasmus-Berghall/Code-Alongs/L021_OOP_Basics.ipynb#X10sZmlsZQ%3D%3D?line=9'>10</a>\u001b[0m             diff \u001b[39m=\u001b[39m \u001b[39mself\u001b[39m\u001b[39m.\u001b[39mage \u001b[39m-\u001b[39m say_hello_to\u001b[39m.\u001b[39mage\n",
      "\u001b[1;31mUnboundLocalError\u001b[0m: cannot access local variable 'diff' where it is not associated with a value"
     ]
    }
   ],
   "source": [
    "cats = []\n",
    "cats.append(Cat(\"Misse\", 3))\n",
    "cats.append(Cat(\"Kisse\", 2))\n",
    "cats.append(Cat(\"Mjau\", 5))\n",
    "cats.append(Cat(\"Jens\", 3))\n",
    "\n",
    "cats[0].best_friend = cats[1]\n",
    "cats[2].best_friend = cats[-1]\n",
    "cats[-1].best_friend = cats[1]\n",
    "\n",
    "\n",
    "for cat in cats:\n",
    "    cat.print_best_friend()\n",
    "\n",
    "print()\n",
    "for cat in cats:\n",
    "    cat.greet()\n",
    "\n",
    "print()\n",
    "for cat in cats[1:]:\n",
    "    cats[0].greet(cat)\n",
    "#My name is Misse and my best friend is Mjau\n",
    "\n",
    "\n"
   ]
  },
  {
   "cell_type": "code",
   "execution_count": 106,
   "metadata": {},
   "outputs": [
    {
     "name": "stdout",
     "output_type": "stream",
     "text": [
      "Pelle\n"
     ]
    }
   ],
   "source": [
    "student = Student(\"Kalle\", 4.3)\n",
    "\n",
    "student.pet = Cat(\"Pelle\", 6)\n",
    "\n",
    "print(student.pet.name)"
   ]
  }
 ],
 "metadata": {
  "kernelspec": {
   "display_name": "Python-Rasmus-Berghall-PaJStNKF",
   "language": "python",
   "name": "python3"
  },
  "language_info": {
   "codemirror_mode": {
    "name": "ipython",
    "version": 3
   },
   "file_extension": ".py",
   "mimetype": "text/x-python",
   "name": "python",
   "nbconvert_exporter": "python",
   "pygments_lexer": "ipython3",
   "version": "3.11.5"
  },
  "orig_nbformat": 4
 },
 "nbformat": 4,
 "nbformat_minor": 2
}
