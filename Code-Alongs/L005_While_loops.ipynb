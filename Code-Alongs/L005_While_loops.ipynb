{
 "cells": [
  {
   "cell_type": "markdown",
   "metadata": {},
   "source": [
    "# Loops\n",
    "Python has two primitive loop commands: \n",
    "- while loops\n",
    "- for loops"
   ]
  },
  {
   "cell_type": "markdown",
   "metadata": {},
   "source": [
    "## The while loop\n",
    "Excecutes a set of statements as long as condition is true."
   ]
  },
  {
   "cell_type": "code",
   "execution_count": 6,
   "metadata": {},
   "outputs": [
    {
     "name": "stdout",
     "output_type": "stream",
     "text": [
      "10: Hello World!\n",
      " 9: Hello World!\n",
      " 8: Hello World!\n",
      " 7: Hello World!\n",
      " 6: Hello World!\n",
      " 5: Hello World!\n",
      " 4: Hello World!\n",
      " 3: Hello World!\n",
      " 2: Hello World!\n",
      " 1: Hello World!\n",
      " 0: Hello World!\n",
      "End.\n"
     ]
    }
   ],
   "source": [
    "counter = 10\n",
    "while counter >= 0: \n",
    "    print(f\"{counter:2d}: Hello World!\")\n",
    "    counter -= 1\n",
    "\n",
    "print(\"End.\")"
   ]
  },
  {
   "cell_type": "markdown",
   "metadata": {},
   "source": [
    "## The break statement\n",
    "Used to stop the loop immediately.\n",
    "\n",
    "\n"
   ]
  },
  {
   "cell_type": "code",
   "execution_count": 8,
   "metadata": {},
   "outputs": [
    {
     "name": "stdout",
     "output_type": "stream",
     "text": [
      "10: Hello World!\n",
      " 9: Hello World!\n",
      " 8: Hello World!\n",
      " 7: Hello World!\n",
      " 6: Hello World!\n",
      " 5: Hello World!\n",
      " 4: Hello World!\n",
      " 3: Hello World!\n",
      " 2: Hello World!\n",
      " 1: Hello World!\n",
      "End.\n"
     ]
    }
   ],
   "source": [
    "counter = 10\n",
    "while True: \n",
    "    print(f\"{counter:2d}: Hello World!\")\n",
    "    counter -= 1\n",
    "    if counter <= 0: break\n",
    "    \n",
    "print(\"End.\")"
   ]
  },
  {
   "cell_type": "markdown",
   "metadata": {},
   "source": [
    "## The continue statement\n",
    "\n",
    "Used to stop the current iteration of the loop, and continue with the next."
   ]
  },
  {
   "cell_type": "code",
   "execution_count": 13,
   "metadata": {},
   "outputs": [
    {
     "name": "stdout",
     "output_type": "stream",
     "text": [
      " 1: print this\n",
      " 2: print this\n",
      " 3: print this\n",
      " 3: Dont print this\n",
      " 4: print this\n",
      " 4: Dont print this\n",
      " 5: print this\n",
      " 5: Dont print this\n",
      "End.\n"
     ]
    }
   ],
   "source": [
    "counter = 0\n",
    "while counter < 5: \n",
    "    counter += 1\n",
    "    print(f\"{counter:2d}: print this\")\n",
    "    if counter < 3: continue\n",
    "    print(f\"{counter:2d}: Dont print this\")\n",
    "\n",
    "print(\"End.\")"
   ]
  },
  {
   "cell_type": "markdown",
   "metadata": {},
   "source": [
    "## The else statement\n",
    "Used to specify a block of code to be executed when the loop is finished.  \n",
    "**Note:** *The else block will NOT be executed if the loop is stopped by a break statement*"
   ]
  },
  {
   "cell_type": "code",
   "execution_count": 21,
   "metadata": {},
   "outputs": [
    {
     "name": "stdout",
     "output_type": "stream",
     "text": [
      "10: Hello World!\n",
      " 8: Hello World!\n",
      " 6: Hello World!\n",
      " 4: Hello World!\n",
      " 2: Hello World!\n",
      "End.\n"
     ]
    }
   ],
   "source": [
    "counter = 10\n",
    "while counter > 0: \n",
    "    print(f\"{counter:2}: Hello World!\")\n",
    "    counter -= 2\n",
    "    # break\n",
    "else: \n",
    "     print(\"End.\")"
   ]
  }
 ],
 "metadata": {
  "kernelspec": {
   "display_name": "Python-Rasmus-Berghall-PaJStNKF",
   "language": "python",
   "name": "python3"
  },
  "language_info": {
   "codemirror_mode": {
    "name": "ipython",
    "version": 3
   },
   "file_extension": ".py",
   "mimetype": "text/x-python",
   "name": "python",
   "nbconvert_exporter": "python",
   "pygments_lexer": "ipython3",
   "version": "3.11.5"
  },
  "orig_nbformat": 4
 },
 "nbformat": 4,
 "nbformat_minor": 2
}
