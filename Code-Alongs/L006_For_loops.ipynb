{
 "cells": [
  {
   "cell_type": "markdown",
   "metadata": {},
   "source": [
    "# For loops\n",
    "A for loop is used for iterating over a sequence. (Example: a list, a string, a dictionary or a range)\n",
    "\n",
    "This is less like the for keyword in other programming languages, and works more like an iterator method as found in other object oriented programming languages. (ex. C#'s foreach-loop)"
   ]
  },
  {
   "cell_type": "code",
   "execution_count": 4,
   "metadata": {},
   "outputs": [
    {
     "name": "stdout",
     "output_type": "stream",
     "text": [
      "Rasmus\n",
      "Ulf\n",
      "Karin\n",
      "Oskar\n"
     ]
    }
   ],
   "source": [
    "# Example: iterating over the items in a list:\n",
    "names = ['Rasmus', 'Ulf', 'Karin', 'Oskar']\n",
    "\n",
    "\n",
    "for name in names: \n",
    "    print(name)"
   ]
  },
  {
   "cell_type": "code",
   "execution_count": 14,
   "metadata": {},
   "outputs": [
    {
     "name": "stdout",
     "output_type": "stream",
     "text": [
      "Using only stop value: \n",
      "0\n",
      "1\n",
      "2\n",
      "3\n",
      "\n",
      "Using start and stop values: \n",
      "1\n",
      "2\n",
      "3\n",
      "\n",
      "Using start, stop and step value: \n",
      "1\n",
      "3\n",
      "5\n",
      "7\n",
      "9\n",
      "\n",
      "Can also count reverse using a negative step value: \n",
      "20\n",
      "18\n",
      "16\n",
      "14\n",
      "12\n"
     ]
    }
   ],
   "source": [
    "# Example: iterating over a range:\n",
    "\n",
    "print(\"Using only stop value: \")\n",
    "for i in range(4):\n",
    "    print(i)\n",
    "\n",
    "print(\"\\nUsing start and stop values: \")\n",
    "for i in range(1, 4):\n",
    "    print(i)\n",
    "\n",
    "print(\"\\nUsing start, stop and step value: \")\n",
    "for i in range(1, 10, 2):\n",
    "    print(i)\n",
    "\n",
    "print(\"\\nCan also count reverse using a negative step value: \")\n",
    "for i in range(20, 10, -2):\n",
    "    print(i)"
   ]
  },
  {
   "cell_type": "markdown",
   "metadata": {},
   "source": [
    "## Like while loops, for loops can also use the following statements: \n",
    "- continue\n",
    "- break\n",
    "- else"
   ]
  }
 ],
 "metadata": {
  "kernelspec": {
   "display_name": "Python-Rasmus-Berghall-PaJStNKF",
   "language": "python",
   "name": "python3"
  },
  "language_info": {
   "codemirror_mode": {
    "name": "ipython",
    "version": 3
   },
   "file_extension": ".py",
   "mimetype": "text/x-python",
   "name": "python",
   "nbconvert_exporter": "python",
   "pygments_lexer": "ipython3",
   "version": "3.11.5"
  },
  "orig_nbformat": 4
 },
 "nbformat": 4,
 "nbformat_minor": 2
}
